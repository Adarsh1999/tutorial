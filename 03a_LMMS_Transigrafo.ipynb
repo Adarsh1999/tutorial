{
  "nbformat": 4,
  "nbformat_minor": 0,
  "metadata": {
    "colab": {
      "name": "03a_LMMS_Transigrafo.ipynb",
      "provenance": [],
      "collapsed_sections": [],
      "toc_visible": true
    },
    "kernelspec": {
      "name": "python3",
      "display_name": "Python 3"
    },
    "accelerator": "GPU"
  },
  "cells": [
    {
      "cell_type": "markdown",
      "metadata": {
        "id": "RdM-OKVpxDDm",
        "colab_type": "text"
      },
      "source": [
        "\n",
        "\n",
        "#**LMMS Transigrafo**"
      ]
    },
    {
      "cell_type": "markdown",
      "metadata": {
        "id": "IlkCmy6tb6IJ",
        "colab_type": "text"
      },
      "source": [
        "##**Introduction**"
      ]
    },
    {
      "cell_type": "markdown",
      "metadata": {
        "id": "3JHILU7xcZ4Y",
        "colab_type": "text"
      },
      "source": [
        "In this notebook we show our implementation of Transigrafo as a extension of the code for Language Modelling Makes Sense (ACL 2019), which uses contextual embeddings in Word Sense Disambiguation (WSD) tasks."
      ]
    },
    {
      "cell_type": "markdown",
      "metadata": {
        "id": "qsF8zwsdefj8",
        "colab_type": "text"
      },
      "source": [
        "![alt text](https://github.com/hybridnlp/LMMS/raw/master/misc/lmms_org.png)"
      ]
    },
    {
      "cell_type": "markdown",
      "metadata": {
        "id": "0isnyNplekRy",
        "colab_type": "text"
      },
      "source": [
        "The figure up above shows the workflow of LMMS. We are going to focus only in the two first phases: training (train.py) and extension (extend.py), to obtain contextual embeddings, extend them semantically with wordnet and finally evaluate them. Sense embeddings based on WordNet's glosses (emb_glosses.py) and lemmas (emb_lemmas.py) are out of the scope of this tutorial."
      ]
    },
    {
      "cell_type": "markdown",
      "metadata": {
        "id": "qbjjjBFU2RaB",
        "colab_type": "text"
      },
      "source": [
        "Our main modifications from the original repository include:\n",
        "\n",
        "*   Support for transformers backend. This makes it possible to experiment with other transformer architectures besides BERT, e.g. XLNet, XLM, RoBERTa optimised training since we no longer have to pad sequences to 512 wordpiece tokens\n",
        "*   Introduced *SentenceEncoder* which is an experimental generalisation of bert-as-service like encoding services using the transformers backend allows to extract various types of embeddings from a single execution of a batch of sequences.\n",
        "*   Rolling cosine similarity metrics during training phase"
      ]
    },
    {
      "cell_type": "markdown",
      "metadata": {
        "id": "bJpX403sb_NG",
        "colab_type": "text"
      },
      "source": [
        "##**Setup**"
      ]
    },
    {
      "cell_type": "markdown",
      "metadata": {
        "id": "LOD40_dYcEZX",
        "colab_type": "text"
      },
      "source": [
        "Execute the following cell to clone the repo and change the directory to LMMS:"
      ]
    },
    {
      "cell_type": "code",
      "metadata": {
        "id": "kJr_uL93LELx",
        "colab_type": "code",
        "outputId": "b3c2593b-d570-44cc-ce8e-abc70940fd61",
        "colab": {
          "base_uri": "https://localhost:8080/",
          "height": 151
        }
      },
      "source": [
        "!git clone https://github.com/hybridnlp/LMMS\n",
        "%cd /content/LMMS"
      ],
      "execution_count": 0,
      "outputs": [
        {
          "output_type": "stream",
          "text": [
            "Cloning into 'LMMS'...\n",
            "remote: Enumerating objects: 58, done.\u001b[K\n",
            "remote: Counting objects: 100% (58/58), done.\u001b[K\n",
            "remote: Compressing objects: 100% (45/45), done.\u001b[K\n",
            "remote: Total 202 (delta 32), reused 25 (delta 13), pack-reused 144\u001b[K\n",
            "Receiving objects: 100% (202/202), 171.80 KiB | 945.00 KiB/s, done.\n",
            "Resolving deltas: 100% (95/95), done.\n",
            "/content/LMMS\n"
          ],
          "name": "stdout"
        }
      ]
    },
    {
      "cell_type": "markdown",
      "metadata": {
        "id": "2ECPI8n0JYm9",
        "colab_type": "text"
      },
      "source": [
        "Then, import and download the nltk interface for Wordnet, and install the transformers library, needed to execute the LMMS scripts"
      ]
    },
    {
      "cell_type": "code",
      "metadata": {
        "id": "S4xVabObNMiA",
        "colab_type": "code",
        "outputId": "6a90ecca-c2b1-4d55-a350-ed44b24c5b05",
        "colab": {
          "base_uri": "https://localhost:8080/",
          "height": 658
        }
      },
      "source": [
        "import nltk\n",
        "nltk.download(\"wordnet\")\n",
        "!pip install transformers==2.1.1"
      ],
      "execution_count": 0,
      "outputs": [
        {
          "output_type": "stream",
          "text": [
            "[nltk_data] Downloading package wordnet to /root/nltk_data...\n",
            "[nltk_data]   Unzipping corpora/wordnet.zip.\n",
            "Collecting transformers==2.1.1\n",
            "\u001b[?25l  Downloading https://files.pythonhosted.org/packages/fd/f9/51824e40f0a23a49eab4fcaa45c1c797cbf9761adedd0b558dab7c958b34/transformers-2.1.1-py3-none-any.whl (311kB)\n",
            "\u001b[K     |████████████████████████████████| 317kB 7.1MB/s \n",
            "\u001b[?25hCollecting regex\n",
            "\u001b[?25l  Downloading https://files.pythonhosted.org/packages/e3/8e/cbf2295643d7265e7883326fb4654e643bfc93b3a8a8274d8010a39d8804/regex-2019.11.1-cp36-cp36m-manylinux1_x86_64.whl (643kB)\n",
            "\u001b[K     |████████████████████████████████| 645kB 44.1MB/s \n",
            "\u001b[?25hRequirement already satisfied: tqdm in /usr/local/lib/python3.6/dist-packages (from transformers==2.1.1) (4.28.1)\n",
            "Collecting sentencepiece\n",
            "\u001b[?25l  Downloading https://files.pythonhosted.org/packages/14/3d/efb655a670b98f62ec32d66954e1109f403db4d937c50d779a75b9763a29/sentencepiece-0.1.83-cp36-cp36m-manylinux1_x86_64.whl (1.0MB)\n",
            "\u001b[K     |████████████████████████████████| 1.0MB 29.0MB/s \n",
            "\u001b[?25hRequirement already satisfied: boto3 in /usr/local/lib/python3.6/dist-packages (from transformers==2.1.1) (1.10.7)\n",
            "Requirement already satisfied: requests in /usr/local/lib/python3.6/dist-packages (from transformers==2.1.1) (2.21.0)\n",
            "Requirement already satisfied: numpy in /usr/local/lib/python3.6/dist-packages (from transformers==2.1.1) (1.17.3)\n",
            "Collecting sacremoses\n",
            "\u001b[?25l  Downloading https://files.pythonhosted.org/packages/1f/8e/ed5364a06a9ba720fddd9820155cc57300d28f5f43a6fd7b7e817177e642/sacremoses-0.0.35.tar.gz (859kB)\n",
            "\u001b[K     |████████████████████████████████| 860kB 28.3MB/s \n",
            "\u001b[?25hRequirement already satisfied: s3transfer<0.3.0,>=0.2.0 in /usr/local/lib/python3.6/dist-packages (from boto3->transformers==2.1.1) (0.2.1)\n",
            "Requirement already satisfied: jmespath<1.0.0,>=0.7.1 in /usr/local/lib/python3.6/dist-packages (from boto3->transformers==2.1.1) (0.9.4)\n",
            "Requirement already satisfied: botocore<1.14.0,>=1.13.7 in /usr/local/lib/python3.6/dist-packages (from boto3->transformers==2.1.1) (1.13.7)\n",
            "Requirement already satisfied: certifi>=2017.4.17 in /usr/local/lib/python3.6/dist-packages (from requests->transformers==2.1.1) (2019.9.11)\n",
            "Requirement already satisfied: chardet<3.1.0,>=3.0.2 in /usr/local/lib/python3.6/dist-packages (from requests->transformers==2.1.1) (3.0.4)\n",
            "Requirement already satisfied: urllib3<1.25,>=1.21.1 in /usr/local/lib/python3.6/dist-packages (from requests->transformers==2.1.1) (1.24.3)\n",
            "Requirement already satisfied: idna<2.9,>=2.5 in /usr/local/lib/python3.6/dist-packages (from requests->transformers==2.1.1) (2.8)\n",
            "Requirement already satisfied: six in /usr/local/lib/python3.6/dist-packages (from sacremoses->transformers==2.1.1) (1.12.0)\n",
            "Requirement already satisfied: click in /usr/local/lib/python3.6/dist-packages (from sacremoses->transformers==2.1.1) (7.0)\n",
            "Requirement already satisfied: joblib in /usr/local/lib/python3.6/dist-packages (from sacremoses->transformers==2.1.1) (0.14.0)\n",
            "Requirement already satisfied: docutils<0.16,>=0.10 in /usr/local/lib/python3.6/dist-packages (from botocore<1.14.0,>=1.13.7->boto3->transformers==2.1.1) (0.15.2)\n",
            "Requirement already satisfied: python-dateutil<3.0.0,>=2.1; python_version >= \"2.7\" in /usr/local/lib/python3.6/dist-packages (from botocore<1.14.0,>=1.13.7->boto3->transformers==2.1.1) (2.6.1)\n",
            "Building wheels for collected packages: sacremoses\n",
            "  Building wheel for sacremoses (setup.py) ... \u001b[?25l\u001b[?25hdone\n",
            "  Created wheel for sacremoses: filename=sacremoses-0.0.35-cp36-none-any.whl size=883999 sha256=1f44485c526fc27f6c749ca2e37f151a5c74c7b87e0fe6615518ae49dd428807\n",
            "  Stored in directory: /root/.cache/pip/wheels/63/2a/db/63e2909042c634ef551d0d9ac825b2b0b32dede4a6d87ddc94\n",
            "Successfully built sacremoses\n",
            "Installing collected packages: regex, sentencepiece, sacremoses, transformers\n",
            "Successfully installed regex-2019.11.1 sacremoses-0.0.35 sentencepiece-0.1.83 transformers-2.1.1\n"
          ],
          "name": "stdout"
        }
      ]
    },
    {
      "cell_type": "markdown",
      "metadata": {
        "id": "eopcss3nK6ZS",
        "colab_type": "text"
      },
      "source": [
        "For this notebook, we are going to use a semantically annotated English corpus: SemCor. The semantic analysis was done manually with WordNet 1.6 senses (SemCor version 1.6) and later automatically mapped to WordNet 3.0 (SemCor version 3.0). The SemCorpus corpus consists of 352 texts from Brown corpus. \n",
        "\n",
        "Execute the following cell to download, unzip the SemCor corpus."
      ]
    },
    {
      "cell_type": "code",
      "metadata": {
        "id": "btxpqC4GNAdX",
        "colab_type": "code",
        "outputId": "fb4ccbae-ce91-466c-cb94-d9577988451f",
        "colab": {
          "base_uri": "https://localhost:8080/",
          "height": 1000
        }
      },
      "source": [
        "!mkdir external/wsd_eval\n",
        "%cd external/wsd_eval\n",
        "!wget http://lcl.uniroma1.it/wsdeval/data/WSD_Evaluation_Framework.zip\n",
        "!unzip WSD_Evaluation_Framework\n",
        "%cd /content/LMMS/"
      ],
      "execution_count": 0,
      "outputs": [
        {
          "output_type": "stream",
          "text": [
            "/content/LMMS/external/wsd_eval\n",
            "--2019-11-08 12:21:48--  http://lcl.uniroma1.it/wsdeval/data/WSD_Evaluation_Framework.zip\n",
            "Resolving lcl.uniroma1.it (lcl.uniroma1.it)... 151.100.179.52\n",
            "Connecting to lcl.uniroma1.it (lcl.uniroma1.it)|151.100.179.52|:80... connected.\n",
            "HTTP request sent, awaiting response... 200 OK\n",
            "Length: 165655083 (158M) [application/zip]\n",
            "Saving to: ‘WSD_Evaluation_Framework.zip’\n",
            "\n",
            "WSD_Evaluation_Fram 100%[===================>] 157.98M  11.2MB/s    in 14s     \n",
            "\n",
            "2019-11-08 12:22:03 (11.1 MB/s) - ‘WSD_Evaluation_Framework.zip’ saved [165655083/165655083]\n",
            "\n",
            "Archive:  WSD_Evaluation_Framework.zip\n",
            "   creating: WSD_Evaluation_Framework/\n",
            "   creating: WSD_Evaluation_Framework/Data_Validation/\n",
            "  inflating: WSD_Evaluation_Framework/Data_Validation/README  \n",
            "  inflating: WSD_Evaluation_Framework/Data_Validation/ValidateGold.java  \n",
            "  inflating: WSD_Evaluation_Framework/Data_Validation/ValidateXML.java  \n",
            "  inflating: WSD_Evaluation_Framework/Data_Validation/candidatesWN30.txt  \n",
            "   creating: WSD_Evaluation_Framework/Data_Validation/lib/\n",
            "  inflating: WSD_Evaluation_Framework/Data_Validation/lib/commons-lang-2.6.jar  \n",
            "   creating: WSD_Evaluation_Framework/Data_Validation/sample-dataset/\n",
            "  inflating: WSD_Evaluation_Framework/Data_Validation/sample-dataset/semeval2015.data.xml  \n",
            "  inflating: WSD_Evaluation_Framework/Data_Validation/sample-dataset/semeval2015.gold.key.txt  \n",
            "  inflating: WSD_Evaluation_Framework/Data_Validation/schema.xsd  \n",
            "  inflating: WSD_Evaluation_Framework/EACL17_WSD_EvaluationFramework.pdf  \n",
            "   creating: WSD_Evaluation_Framework/Evaluation_Datasets/\n",
            "   creating: WSD_Evaluation_Framework/Evaluation_Datasets/ALL/\n",
            "  inflating: WSD_Evaluation_Framework/Evaluation_Datasets/ALL/ALL.data.xml  \n",
            "  inflating: WSD_Evaluation_Framework/Evaluation_Datasets/ALL/ALL.gold.key.txt  \n",
            "  inflating: WSD_Evaluation_Framework/Evaluation_Datasets/README  \n",
            "  inflating: WSD_Evaluation_Framework/Evaluation_Datasets/Scorer.java  \n",
            "   creating: WSD_Evaluation_Framework/Evaluation_Datasets/semeval2007/\n",
            "  inflating: WSD_Evaluation_Framework/Evaluation_Datasets/semeval2007/semeval2007.data.xml  \n",
            "  inflating: WSD_Evaluation_Framework/Evaluation_Datasets/semeval2007/semeval2007.gold.key.txt  \n",
            "   creating: WSD_Evaluation_Framework/Evaluation_Datasets/semeval2013/\n",
            "  inflating: WSD_Evaluation_Framework/Evaluation_Datasets/semeval2013/semeval2013.data.xml  \n",
            "  inflating: WSD_Evaluation_Framework/Evaluation_Datasets/semeval2013/semeval2013.gold.key.txt  \n",
            "   creating: WSD_Evaluation_Framework/Evaluation_Datasets/semeval2015/\n",
            "  inflating: WSD_Evaluation_Framework/Evaluation_Datasets/semeval2015/semeval2015.data.xml  \n",
            "  inflating: WSD_Evaluation_Framework/Evaluation_Datasets/semeval2015/semeval2015.gold.key.txt  \n",
            "   creating: WSD_Evaluation_Framework/Evaluation_Datasets/senseval2/\n",
            "  inflating: WSD_Evaluation_Framework/Evaluation_Datasets/senseval2/senseval2.data.xml  \n",
            "  inflating: WSD_Evaluation_Framework/Evaluation_Datasets/senseval2/senseval2.gold.key.txt  \n",
            "   creating: WSD_Evaluation_Framework/Evaluation_Datasets/senseval3/\n",
            "  inflating: WSD_Evaluation_Framework/Evaluation_Datasets/senseval3/senseval3.data.xml  \n",
            "  inflating: WSD_Evaluation_Framework/Evaluation_Datasets/senseval3/senseval3.gold.key.txt  \n",
            "   creating: WSD_Evaluation_Framework/Output_Systems_ALL/\n",
            "  inflating: WSD_Evaluation_Framework/Output_Systems_ALL/IMS_semcor+omsti.key  \n",
            "  inflating: WSD_Evaluation_Framework/Output_Systems_ALL/IMS_semcor.key  \n",
            "  inflating: WSD_Evaluation_Framework/Output_Systems_ALL/IMSemb-s_semcor+omsti.key  \n",
            "  inflating: WSD_Evaluation_Framework/Output_Systems_ALL/IMSemb-s_semcor.key  \n",
            "  inflating: WSD_Evaluation_Framework/Output_Systems_ALL/IMSemb_semcor+omsti.key  \n",
            "  inflating: WSD_Evaluation_Framework/Output_Systems_ALL/IMSemb_semcor.key  \n",
            "  inflating: WSD_Evaluation_Framework/Output_Systems_ALL/Leskextended.key  \n",
            "  inflating: WSD_Evaluation_Framework/Output_Systems_ALL/MFS_semcor+omsti.key  \n",
            "  inflating: WSD_Evaluation_Framework/Output_Systems_ALL/MFS_semcor.key  \n",
            "  inflating: WSD_Evaluation_Framework/Output_Systems_ALL/UKB.key  \n",
            "  inflating: WSD_Evaluation_Framework/Output_Systems_ALL/UKBG.key  \n",
            "  inflating: WSD_Evaluation_Framework/Output_Systems_ALL/WNFirstsense.key  \n",
            "  inflating: WSD_Evaluation_Framework/Output_Systems_ALL/babelfy.key  \n",
            "  inflating: WSD_Evaluation_Framework/Output_Systems_ALL/context2vec_semcor+omsti.key  \n",
            "  inflating: WSD_Evaluation_Framework/Output_Systems_ALL/context2vec_semcor.key  \n",
            "  inflating: WSD_Evaluation_Framework/Output_Systems_ALL/lesk_emb.key  \n",
            "  inflating: WSD_Evaluation_Framework/README  \n",
            "   creating: WSD_Evaluation_Framework/Training_Corpora/\n",
            "  inflating: WSD_Evaluation_Framework/Training_Corpora/README  \n",
            "   creating: WSD_Evaluation_Framework/Training_Corpora/SemCor/\n",
            "   creating: WSD_Evaluation_Framework/Training_Corpora/SemCor+OMSTI/\n",
            "  inflating: WSD_Evaluation_Framework/Training_Corpora/SemCor+OMSTI/semcor+omsti.data.xml  \n",
            "  inflating: WSD_Evaluation_Framework/Training_Corpora/SemCor+OMSTI/semcor+omsti.gold.key.txt  \n",
            "  inflating: WSD_Evaluation_Framework/Training_Corpora/SemCor/semcor.data.xml  \n",
            "  inflating: WSD_Evaluation_Framework/Training_Corpora/SemCor/semcor.gold.key.txt  \n",
            "/content/LMMS\n"
          ],
          "name": "stdout"
        }
      ]
    },
    {
      "cell_type": "markdown",
      "metadata": {
        "id": "6ORJtDbjwuYS",
        "colab_type": "text"
      },
      "source": [
        "##**Training**"
      ]
    },
    {
      "cell_type": "markdown",
      "metadata": {
        "id": "Zp63OhCnNzpW",
        "colab_type": "text"
      },
      "source": [
        "We use transformers backend to train the model with the SemCor corpus, since the bert_as_a_service option is not possible in Google Colab. This training will create, after a while, the following files in the output folder:\n",
        "\n",
        "* **semcor..4-8.vecs.txt** for each sense the computed embedding\n",
        "\n",
        "* **semcor..4-8.counts.txt** for each sense, how often did it occur in the training corpus\n",
        "\n",
        "* **semcor..4-8.rolling_cosims.txt** for each sense, a sequence of cosims between the current average emb and the next occurrence in the training corpus\n",
        "\n",
        "* **lmms_config.json** a record of the args used during training\n",
        "\n",
        "\n",
        "***DISCLAIMER: For the purpose of this tutorial, we reduce the length of sentences from the corpus to 4-8 tokens, so we can execute all the cells of the notebook within a reasonable time. If you want to execute it with the whole corpus, just delete the min_seq_len and max_seq_len arguments***"
      ]
    },
    {
      "cell_type": "code",
      "metadata": {
        "id": "2nTgQL5oOH2U",
        "colab_type": "code",
        "outputId": "2cf90df8-a32e-4bb4-b659-3ae06a135307",
        "colab": {
          "base_uri": "https://localhost:8080/",
          "height": 1000
        }
      },
      "source": [
        "%%time\n",
        "!python train.py -dataset semcor -backend transformers -out_path data/vectors/semcor.txt -min_seq_len 4 -max_seq_len 8"
      ],
      "execution_count": 0,
      "outputs": [
        {
          "output_type": "stream",
          "text": [
            "08-Nov-19 12:22:19 - INFO - Creating TransformerSentenceEncoder\n",
            "08-Nov-19 12:22:19 - DEBUG - Starting new HTTPS connection (1): s3.amazonaws.com:443\n",
            "08-Nov-19 12:22:20 - DEBUG - https://s3.amazonaws.com:443 \"HEAD /models.huggingface.co/bert/bert-large-cased-vocab.txt HTTP/1.1\" 200 0\n",
            "08-Nov-19 12:22:20 - INFO - https://s3.amazonaws.com/models.huggingface.co/bert/bert-large-cased-vocab.txt not found in cache or force_download set to True, downloading to /tmp/tmpuqgitef7\n",
            "08-Nov-19 12:22:20 - DEBUG - Starting new HTTPS connection (1): s3.amazonaws.com:443\n",
            "08-Nov-19 12:22:20 - DEBUG - https://s3.amazonaws.com:443 \"GET /models.huggingface.co/bert/bert-large-cased-vocab.txt HTTP/1.1\" 200 213450\n",
            "100% 213450/213450 [00:00<00:00, 864320.29B/s]\n",
            "08-Nov-19 12:22:20 - INFO - copying /tmp/tmpuqgitef7 to cache at /root/.cache/torch/transformers/cee054f6aafe5e2cf816d2228704e326446785f940f5451a5b26033516a4ac3d.e13dbb970cb325137104fb2e5f36fe865f27746c6b526f6352861b1980eb80b1\n",
            "08-Nov-19 12:22:20 - INFO - creating metadata file for /root/.cache/torch/transformers/cee054f6aafe5e2cf816d2228704e326446785f940f5451a5b26033516a4ac3d.e13dbb970cb325137104fb2e5f36fe865f27746c6b526f6352861b1980eb80b1\n",
            "08-Nov-19 12:22:20 - INFO - removing temp file /tmp/tmpuqgitef7\n",
            "08-Nov-19 12:22:20 - INFO - loading file https://s3.amazonaws.com/models.huggingface.co/bert/bert-large-cased-vocab.txt from cache at /root/.cache/torch/transformers/cee054f6aafe5e2cf816d2228704e326446785f940f5451a5b26033516a4ac3d.e13dbb970cb325137104fb2e5f36fe865f27746c6b526f6352861b1980eb80b1\n",
            "08-Nov-19 12:22:20 - DEBUG - Starting new HTTPS connection (1): s3.amazonaws.com:443\n",
            "08-Nov-19 12:22:21 - DEBUG - https://s3.amazonaws.com:443 \"HEAD /models.huggingface.co/bert/bert-large-cased-config.json HTTP/1.1\" 200 0\n",
            "08-Nov-19 12:22:21 - INFO - https://s3.amazonaws.com/models.huggingface.co/bert/bert-large-cased-config.json not found in cache or force_download set to True, downloading to /tmp/tmp450it7ux\n",
            "08-Nov-19 12:22:21 - DEBUG - Starting new HTTPS connection (1): s3.amazonaws.com:443\n",
            "08-Nov-19 12:22:21 - DEBUG - https://s3.amazonaws.com:443 \"GET /models.huggingface.co/bert/bert-large-cased-config.json HTTP/1.1\" 200 521\n",
            "100% 521/521 [00:00<00:00, 307562.62B/s]\n",
            "08-Nov-19 12:22:21 - INFO - copying /tmp/tmp450it7ux to cache at /root/.cache/torch/transformers/90deb4d9dd705272dc4b3db1364d759d551d72a9f70a91f60e3a1f5e278b985d.e1d0cd972de64b28f3a5bee0ffccda07658b2b3e827e0ef38c5799e9aaa23f19\n",
            "08-Nov-19 12:22:21 - INFO - creating metadata file for /root/.cache/torch/transformers/90deb4d9dd705272dc4b3db1364d759d551d72a9f70a91f60e3a1f5e278b985d.e1d0cd972de64b28f3a5bee0ffccda07658b2b3e827e0ef38c5799e9aaa23f19\n",
            "08-Nov-19 12:22:21 - INFO - removing temp file /tmp/tmp450it7ux\n",
            "08-Nov-19 12:22:21 - INFO - loading configuration file https://s3.amazonaws.com/models.huggingface.co/bert/bert-large-cased-config.json from cache at /root/.cache/torch/transformers/90deb4d9dd705272dc4b3db1364d759d551d72a9f70a91f60e3a1f5e278b985d.e1d0cd972de64b28f3a5bee0ffccda07658b2b3e827e0ef38c5799e9aaa23f19\n",
            "08-Nov-19 12:22:21 - INFO - Model config {\n",
            "  \"attention_probs_dropout_prob\": 0.1,\n",
            "  \"directionality\": \"bidi\",\n",
            "  \"finetuning_task\": null,\n",
            "  \"hidden_act\": \"gelu\",\n",
            "  \"hidden_dropout_prob\": 0.1,\n",
            "  \"hidden_size\": 1024,\n",
            "  \"initializer_range\": 0.02,\n",
            "  \"intermediate_size\": 4096,\n",
            "  \"layer_norm_eps\": 1e-12,\n",
            "  \"max_position_embeddings\": 512,\n",
            "  \"num_attention_heads\": 16,\n",
            "  \"num_hidden_layers\": 24,\n",
            "  \"num_labels\": 2,\n",
            "  \"output_attentions\": false,\n",
            "  \"output_hidden_states\": true,\n",
            "  \"output_past\": true,\n",
            "  \"pooler_fc_size\": 768,\n",
            "  \"pooler_num_attention_heads\": 12,\n",
            "  \"pooler_num_fc_layers\": 3,\n",
            "  \"pooler_size_per_head\": 128,\n",
            "  \"pooler_type\": \"first_token_transform\",\n",
            "  \"pruned_heads\": {},\n",
            "  \"torchscript\": false,\n",
            "  \"type_vocab_size\": 2,\n",
            "  \"use_bfloat16\": false,\n",
            "  \"vocab_size\": 28996\n",
            "}\n",
            "\n",
            "08-Nov-19 12:22:21 - DEBUG - Starting new HTTPS connection (1): s3.amazonaws.com:443\n",
            "08-Nov-19 12:22:21 - DEBUG - https://s3.amazonaws.com:443 \"HEAD /models.huggingface.co/bert/bert-large-cased-pytorch_model.bin HTTP/1.1\" 200 0\n",
            "08-Nov-19 12:22:21 - INFO - https://s3.amazonaws.com/models.huggingface.co/bert/bert-large-cased-pytorch_model.bin not found in cache or force_download set to True, downloading to /tmp/tmprax9bu20\n",
            "08-Nov-19 12:22:21 - DEBUG - Starting new HTTPS connection (1): s3.amazonaws.com:443\n",
            "08-Nov-19 12:22:22 - DEBUG - https://s3.amazonaws.com:443 \"GET /models.huggingface.co/bert/bert-large-cased-pytorch_model.bin HTTP/1.1\" 200 1338740706\n",
            "100% 1338740706/1338740706 [00:42<00:00, 31484608.97B/s]\n",
            "08-Nov-19 12:23:04 - INFO - copying /tmp/tmprax9bu20 to cache at /root/.cache/torch/transformers/56c451878be53ca1e310764d1e8312301f3d921378919467947ddd53fef6ba2b.b5f1c2070e0a0c189ca3b08270b0cb5bd0635b7319e74e93bd0dc26689953c27\n",
            "08-Nov-19 12:23:09 - INFO - creating metadata file for /root/.cache/torch/transformers/56c451878be53ca1e310764d1e8312301f3d921378919467947ddd53fef6ba2b.b5f1c2070e0a0c189ca3b08270b0cb5bd0635b7319e74e93bd0dc26689953c27\n",
            "08-Nov-19 12:23:09 - INFO - removing temp file /tmp/tmprax9bu20\n",
            "08-Nov-19 12:23:09 - INFO - loading weights file https://s3.amazonaws.com/models.huggingface.co/bert/bert-large-cased-pytorch_model.bin from cache at /root/.cache/torch/transformers/56c451878be53ca1e310764d1e8312301f3d921378919467947ddd53fef6ba2b.b5f1c2070e0a0c189ca3b08270b0cb5bd0635b7319e74e93bd0dc26689953c27\n",
            "08-Nov-19 12:23:24 - INFO - Created TransformerSentenceEncoder\n",
            "\tconfig {'model_name_or_path': 'bert-large-cased', 'model_arch': 'BERT', 'min_seq_len': 4, 'max_seq_len': 8, 'pooling_strategy': 'NONE', 'pooling_layer': [-4, -3, -2, -1], 'tok_merge_strategy': 'mean', 'sent_special_tokens': [{'index': 0, 'tok_id': 101, 'tok': '[CLS]'}, {'index': -1, 'tok_id': 102, 'tok': '[SEP]'}], 'tok_dim': 1024}\n",
            "\ttok_dim:1024\n",
            "\tsent_special_tokens[{'index': 0, 'tok_id': 101, 'tok': '[CLS]'}, {'index': -1, 'tok_id': 102, 'tok': '[SEP]'}]\n",
            "08-Nov-19 12:23:26 - INFO - 52.118 sents/sec - 100 sents, 306 senses\n",
            "08-Nov-19 12:23:27 - INFO - 62.787 sents/sec - 200 sents, 620 senses\n",
            "08-Nov-19 12:23:28 - INFO - 71.788 sents/sec - 300 sents, 807 senses\n",
            "08-Nov-19 12:23:29 - INFO - 75.427 sents/sec - 400 sents, 959 senses\n",
            "08-Nov-19 12:23:30 - INFO - 78.147 sents/sec - 500 sents, 1176 senses\n",
            "08-Nov-19 12:23:31 - INFO - 79.610 sents/sec - 600 sents, 1390 senses\n",
            "08-Nov-19 12:23:32 - INFO - 81.761 sents/sec - 700 sents, 1509 senses\n",
            "08-Nov-19 12:23:34 - INFO - 80.470 sents/sec - 800 sents, 1692 senses\n",
            "08-Nov-19 12:23:35 - INFO - 81.574 sents/sec - 900 sents, 1844 senses\n",
            "08-Nov-19 12:23:36 - INFO - 82.877 sents/sec - 1000 sents, 1963 senses\n",
            "08-Nov-19 12:23:37 - INFO - 83.453 sents/sec - 1100 sents, 2087 senses\n",
            "08-Nov-19 12:23:38 - INFO - 83.554 sents/sec - 1200 sents, 2251 senses\n",
            "08-Nov-19 12:23:39 - INFO - 84.091 sents/sec - 1300 sents, 2438 senses\n",
            "08-Nov-19 12:23:40 - INFO - 84.306 sents/sec - 1400 sents, 2611 senses\n",
            "08-Nov-19 12:23:41 - INFO - 85.012 sents/sec - 1500 sents, 2716 senses\n",
            "08-Nov-19 12:23:43 - INFO - 84.398 sents/sec - 1600 sents, 2890 senses\n",
            "08-Nov-19 12:23:44 - INFO - 83.494 sents/sec - 1700 sents, 3070 senses\n",
            "08-Nov-19 12:23:45 - INFO - 83.649 sents/sec - 1800 sents, 3205 senses\n",
            "08-Nov-19 12:23:46 - INFO - 83.561 sents/sec - 1900 sents, 3430 senses\n",
            "08-Nov-19 12:23:48 - INFO - 83.631 sents/sec - 2000 sents, 3586 senses\n",
            "08-Nov-19 12:23:49 - INFO - 83.792 sents/sec - 2100 sents, 3701 senses\n",
            "08-Nov-19 12:23:50 - INFO - 83.945 sents/sec - 2200 sents, 3833 senses\n",
            "08-Nov-19 12:23:51 - INFO - 84.325 sents/sec - 2300 sents, 3968 senses\n",
            "08-Nov-19 12:23:52 - INFO - 83.676 sents/sec - 2400 sents, 4075 senses\n",
            "08-Nov-19 12:23:53 - INFO - 83.881 sents/sec - 2500 sents, 4162 senses\n",
            "08-Nov-19 12:23:55 - INFO - 84.041 sents/sec - 2600 sents, 4283 senses\n",
            "08-Nov-19 12:23:56 - INFO - 84.552 sents/sec - 2700 sents, 4347 senses\n",
            "08-Nov-19 12:23:57 - INFO - 84.325 sents/sec - 2800 sents, 4470 senses\n",
            "08-Nov-19 12:23:58 - INFO - 84.708 sents/sec - 2900 sents, 4589 senses\n",
            "08-Nov-19 12:23:59 - INFO - 84.745 sents/sec - 3000 sents, 4684 senses\n",
            "08-Nov-19 12:24:00 - INFO - 84.506 sents/sec - 3100 sents, 4816 senses\n",
            "08-Nov-19 12:24:02 - INFO - 84.350 sents/sec - 3200 sents, 4908 senses\n",
            "08-Nov-19 12:24:03 - INFO - 84.688 sents/sec - 3300 sents, 5013 senses\n",
            "08-Nov-19 12:24:04 - INFO - 84.773 sents/sec - 3400 sents, 5118 senses\n",
            "08-Nov-19 12:24:05 - INFO - 85.202 sents/sec - 3500 sents, 5225 senses\n",
            "08-Nov-19 12:24:06 - INFO - 85.090 sents/sec - 3600 sents, 5371 senses\n",
            "08-Nov-19 12:24:07 - INFO - 85.545 sents/sec - 3700 sents, 5411 senses\n",
            "08-Nov-19 12:24:08 - INFO - 85.791 sents/sec - 3800 sents, 5481 senses\n",
            "08-Nov-19 12:24:09 - INFO - 85.557 sents/sec - 3900 sents, 5576 senses\n",
            "08-Nov-19 12:24:11 - INFO - 85.122 sents/sec - 4000 sents, 5721 senses\n",
            "08-Nov-19 12:24:12 - INFO - 85.385 sents/sec - 4100 sents, 5813 senses\n",
            "08-Nov-19 12:24:13 - INFO - 85.683 sents/sec - 4200 sents, 5859 senses\n",
            "08-Nov-19 12:24:14 - INFO - 85.978 sents/sec - 4300 sents, 5947 senses\n",
            "08-Nov-19 12:24:15 - INFO - 85.878 sents/sec - 4400 sents, 6035 senses\n",
            "08-Nov-19 12:24:16 - INFO - 85.944 sents/sec - 4500 sents, 6176 senses\n",
            "08-Nov-19 12:24:17 - INFO - 85.939 sents/sec - 4600 sents, 6273 senses\n",
            "08-Nov-19 12:24:18 - INFO - 85.677 sents/sec - 4700 sents, 6381 senses\n",
            "08-Nov-19 12:24:20 - INFO - 85.423 sents/sec - 4800 sents, 6474 senses\n",
            "08-Nov-19 12:24:21 - INFO - 85.394 sents/sec - 4900 sents, 6571 senses\n",
            "08-Nov-19 12:24:22 - INFO - 85.469 sents/sec - 5000 sents, 6661 senses\n",
            "08-Nov-19 12:24:23 - INFO - 85.646 sents/sec - 5100 sents, 6733 senses\n",
            "08-Nov-19 12:24:25 - INFO - 85.340 sents/sec - 5200 sents, 6825 senses\n",
            "08-Nov-19 12:24:26 - INFO - 85.403 sents/sec - 5300 sents, 6909 senses\n",
            "08-Nov-19 12:24:27 - INFO - 85.476 sents/sec - 5400 sents, 6983 senses\n",
            "08-Nov-19 12:24:28 - INFO - 85.284 sents/sec - 5500 sents, 7094 senses\n",
            "08-Nov-19 12:24:30 - INFO - 84.890 sents/sec - 5600 sents, 7233 senses\n",
            "08-Nov-19 12:24:31 - INFO - 85.083 sents/sec - 5700 sents, 7306 senses\n",
            "08-Nov-19 12:24:32 - INFO - 85.098 sents/sec - 5800 sents, 7393 senses\n",
            "08-Nov-19 12:24:33 - INFO - 85.090 sents/sec - 5900 sents, 7470 senses\n",
            "08-Nov-19 12:24:34 - INFO - 85.260 sents/sec - 6000 sents, 7558 senses\n",
            "08-Nov-19 12:24:35 - INFO - 85.212 sents/sec - 6100 sents, 7623 senses\n",
            "08-Nov-19 12:24:36 - INFO - 85.180 sents/sec - 6200 sents, 7645 senses\n",
            "08-Nov-19 12:24:38 - INFO - 85.193 sents/sec - 6300 sents, 7664 senses\n",
            "08-Nov-19 12:24:39 - INFO - 85.019 sents/sec - 6400 sents, 7700 senses\n",
            "08-Nov-19 12:24:40 - INFO - 85.039 sents/sec - 6500 sents, 7735 senses\n",
            "08-Nov-19 12:24:41 - INFO - 85.073 sents/sec - 6600 sents, 7762 senses\n",
            "08-Nov-19 12:24:42 - INFO - 84.965 sents/sec - 6700 sents, 7781 senses\n",
            "08-Nov-19 12:24:44 - INFO - 84.903 sents/sec - 6800 sents, 7802 senses\n",
            "08-Nov-19 12:24:45 - INFO - 84.996 sents/sec - 6900 sents, 7834 senses\n",
            "08-Nov-19 12:24:46 - INFO - 84.841 sents/sec - 7000 sents, 7865 senses\n",
            "08-Nov-19 12:24:47 - INFO - 84.982 sents/sec - 7100 sents, 7880 senses\n",
            "08-Nov-19 12:24:49 - INFO - 84.695 sents/sec - 7200 sents, 7900 senses\n",
            "08-Nov-19 12:24:50 - INFO - 84.749 sents/sec - 7300 sents, 7918 senses\n",
            "08-Nov-19 12:24:51 - INFO - 84.669 sents/sec - 7400 sents, 7940 senses\n",
            "08-Nov-19 12:24:52 - INFO - 84.701 sents/sec - 7500 sents, 7955 senses\n",
            "08-Nov-19 12:24:54 - INFO - 84.519 sents/sec - 7600 sents, 7982 senses\n",
            "08-Nov-19 12:24:55 - INFO - 84.429 sents/sec - 7700 sents, 8008 senses\n",
            "08-Nov-19 12:24:56 - INFO - 84.452 sents/sec - 7800 sents, 8036 senses\n",
            "08-Nov-19 12:24:57 - INFO - 84.462 sents/sec - 7900 sents, 8060 senses\n",
            "08-Nov-19 12:24:59 - INFO - 84.157 sents/sec - 8000 sents, 8087 senses\n",
            "08-Nov-19 12:25:00 - INFO - 84.301 sents/sec - 8100 sents, 8095 senses\n",
            "08-Nov-19 12:25:01 - INFO - 84.238 sents/sec - 8200 sents, 8122 senses\n",
            "08-Nov-19 12:25:02 - INFO - 84.402 sents/sec - 8300 sents, 8134 senses\n",
            "08-Nov-19 12:25:03 - INFO - 84.464 sents/sec - 8400 sents, 8152 senses\n",
            "08-Nov-19 12:25:04 - INFO - 84.464 sents/sec - 8500 sents, 8172 senses\n",
            "08-Nov-19 12:25:05 - INFO - 84.597 sents/sec - 8600 sents, 8188 senses\n",
            "08-Nov-19 12:25:06 - INFO - 84.711 sents/sec - 8700 sents, 8205 senses\n",
            "08-Nov-19 12:25:08 - INFO - 84.520 sents/sec - 8800 sents, 8229 senses\n",
            "08-Nov-19 12:25:09 - INFO - 84.441 sents/sec - 8900 sents, 8253 senses\n",
            "08-Nov-19 12:25:10 - INFO - 84.502 sents/sec - 9000 sents, 8278 senses\n",
            "08-Nov-19 12:25:11 - INFO - 84.531 sents/sec - 9100 sents, 8297 senses\n",
            "08-Nov-19 12:25:12 - INFO - 84.534 sents/sec - 9200 sents, 8315 senses\n",
            "08-Nov-19 12:25:14 - INFO - 84.585 sents/sec - 9300 sents, 8337 senses\n",
            "08-Nov-19 12:25:15 - INFO - 84.532 sents/sec - 9400 sents, 8356 senses\n",
            "08-Nov-19 12:25:16 - INFO - 84.502 sents/sec - 9500 sents, 8382 senses\n",
            "08-Nov-19 12:25:17 - INFO - 84.291 sents/sec - 9600 sents, 8404 senses\n",
            "08-Nov-19 12:25:19 - INFO - 84.247 sents/sec - 9700 sents, 8419 senses\n",
            "08-Nov-19 12:25:20 - INFO - 84.248 sents/sec - 9800 sents, 8436 senses\n",
            "08-Nov-19 12:25:21 - INFO - 84.262 sents/sec - 9900 sents, 8448 senses\n",
            "08-Nov-19 12:25:22 - INFO - 84.353 sents/sec - 10000 sents, 8458 senses\n",
            "08-Nov-19 12:25:23 - INFO - 84.443 sents/sec - 10100 sents, 8475 senses\n",
            "08-Nov-19 12:25:24 - INFO - 84.417 sents/sec - 10200 sents, 8492 senses\n",
            "08-Nov-19 12:25:26 - INFO - 84.442 sents/sec - 10300 sents, 8507 senses\n",
            "08-Nov-19 12:25:26 - INFO - Processing remaining batch [3, 16) with 18 < 32 elts\n",
            "08-Nov-19 12:25:26 - INFO - #sents: 10322 of 37175, 84.141 sents/sec\n",
            "08-Nov-19 12:25:26 - INFO - Writing Sense Vectors ...\n",
            "08-Nov-19 12:25:37 - INFO - Written data/vectors/semcor..4-8.vecs.txt\n",
            "08-Nov-19 12:25:37 - INFO - Writing Sense counts ...\n",
            "08-Nov-19 12:25:37 - INFO - Written data/vectors/semcor..4-8.counts.txt\n",
            "08-Nov-19 12:25:37 - INFO - Writing rolling cosine similarities ...\n",
            "08-Nov-19 12:25:37 - INFO - Written data/vectors/semcor..4-8.rolling_cosims.txt\n",
            "08-Nov-19 12:25:37 - INFO - Writing lmms_train_config.json\n",
            "08-Nov-19 12:25:37 - INFO - Written data/vectors/lmms_config.json\n",
            "CPU times: user 1.58 s, sys: 235 ms, total: 1.81 s\n",
            "Wall time: 3min 24s\n"
          ],
          "name": "stdout"
        }
      ]
    },
    {
      "cell_type": "markdown",
      "metadata": {
        "id": "Zunn7XRVg0eC",
        "colab_type": "text"
      },
      "source": [
        "Now, to obtain the same results, in the remainder of the notebook we use the embeddings that were previously trained with the whole corpus (without sequence length restrictions). The next cell will download these embeddings."
      ]
    },
    {
      "cell_type": "code",
      "metadata": {
        "id": "u4pu9LE-h0TE",
        "colab_type": "code",
        "outputId": "f7a7bbac-7ca4-42c1-fca3-583baac128ac",
        "colab": {
          "base_uri": "https://localhost:8080/",
          "height": 302
        }
      },
      "source": [
        "%cd data/vectors/\n",
        "!wget https://zenodo.org/record/3532708/files/semcor..3-512.tar.gz\n",
        "!tar zxvf semcor..3-512.tar.gz\n",
        "%cd /content/LMMS/"
      ],
      "execution_count": 0,
      "outputs": [
        {
          "output_type": "stream",
          "text": [
            "/content/LMMS/data/vectors\n",
            "--2019-11-08 12:28:06--  https://zenodo.org/record/3532708/files/semcor..3-512.tar.gz\n",
            "Resolving zenodo.org (zenodo.org)... 188.184.65.20\n",
            "Connecting to zenodo.org (zenodo.org)|188.184.65.20|:443... connected.\n",
            "HTTP request sent, awaiting response... 200 OK\n",
            "Length: 139536843 (133M) [application/octet-stream]\n",
            "Saving to: ‘semcor..3-512.tar.gz.1’\n",
            "\n",
            "semcor..3-512.tar.g 100%[===================>] 133.07M  63.5MB/s    in 2.1s    \n",
            "\n",
            "2019-11-08 12:28:09 (63.5 MB/s) - ‘semcor..3-512.tar.gz.1’ saved [139536843/139536843]\n",
            "\n",
            "semcor..3-512.counts.txt\n",
            "semcor..3-512.rolling_cosims.txt\n",
            "semcor..3-512.vecs.txt\n",
            "lmms_config.json\n",
            "/content/LMMS\n"
          ],
          "name": "stdout"
        }
      ]
    },
    {
      "cell_type": "markdown",
      "metadata": {
        "id": "_jxjdvJYwy8x",
        "colab_type": "text"
      },
      "source": [
        "## **Extend**"
      ]
    },
    {
      "cell_type": "markdown",
      "metadata": {
        "id": "g70YrzUkOPCp",
        "colab_type": "text"
      },
      "source": [
        "The next cell performs a semantic extension of the embeddings found during the training, propagating supervised them through Wordnet. \n",
        "\n",
        "There are three options for this extension: //TODO RONALD: EXPLAIN EACH OPTION\n",
        "* **lexname**\n",
        "* **hypernym**\n",
        "* **synset**\n",
        "\n",
        "The new embeddings will be saved in **semcor_ext.3-512.vecs.npz**"
      ]
    },
    {
      "cell_type": "code",
      "metadata": {
        "id": "Uvq90H9zQwZl",
        "colab_type": "code",
        "outputId": "f95d381b-d9b0-4582-fb39-4b953f5ee135",
        "colab": {
          "base_uri": "https://localhost:8080/",
          "height": 1000
        }
      },
      "source": [
        "%%time\n",
        "!python extend.py -sup_sv_path data/vectors/semcor..3-512.vecs.txt -ext_mode lexname -out_path data/vectors/semcor_ext.3-512.vecs.npz"
      ],
      "execution_count": 0,
      "outputs": [
        {
          "output_type": "stream",
          "text": [
            "08-Nov-19 12:28:28 - INFO - Loading SensesVSM ...\n",
            "08-Nov-19 12:28:37 - INFO - Processing ...\n",
            "08-Nov-19 12:28:37 - INFO - Extension at synset 0 - 0\n",
            "08-Nov-19 12:28:37 - INFO - Extension at synset 1000 - 144\n",
            "08-Nov-19 12:28:37 - INFO - Extension at synset 2000 - 332\n",
            "08-Nov-19 12:28:37 - INFO - Extension at synset 3000 - 506\n",
            "08-Nov-19 12:28:37 - INFO - Extension at synset 4000 - 623\n",
            "08-Nov-19 12:28:37 - INFO - Extension at synset 5000 - 807\n",
            "08-Nov-19 12:28:37 - INFO - Extension at synset 6000 - 980\n",
            "08-Nov-19 12:28:37 - INFO - Extension at synset 7000 - 1147\n",
            "08-Nov-19 12:28:37 - INFO - Extension at synset 8000 - 1317\n",
            "08-Nov-19 12:28:37 - INFO - Extension at synset 9000 - 1509\n",
            "08-Nov-19 12:28:37 - INFO - Extension at synset 10000 - 1689\n",
            "08-Nov-19 12:28:37 - INFO - Extension at synset 11000 - 1923\n",
            "08-Nov-19 12:28:37 - INFO - Extension at synset 12000 - 2074\n",
            "08-Nov-19 12:28:37 - INFO - Extension at synset 13000 - 2280\n",
            "08-Nov-19 12:28:37 - INFO - Extension at synset 14000 - 2451\n",
            "08-Nov-19 12:28:37 - INFO - Extension at synset 15000 - 2593\n",
            "08-Nov-19 12:28:37 - INFO - Extension at synset 16000 - 2799\n",
            "08-Nov-19 12:28:37 - INFO - Extension at synset 17000 - 2979\n",
            "08-Nov-19 12:28:37 - INFO - Extension at synset 18000 - 3181\n",
            "08-Nov-19 12:28:37 - INFO - Extension at synset 19000 - 3359\n",
            "08-Nov-19 12:28:37 - INFO - Extension at synset 20000 - 3540\n",
            "08-Nov-19 12:28:37 - INFO - Extension at synset 21000 - 3687\n",
            "08-Nov-19 12:28:37 - INFO - Extension at synset 22000 - 3790\n",
            "08-Nov-19 12:28:37 - INFO - Extension at synset 23000 - 3958\n",
            "08-Nov-19 12:28:37 - INFO - Extension at synset 24000 - 4143\n",
            "08-Nov-19 12:28:37 - INFO - Extension at synset 25000 - 4310\n",
            "08-Nov-19 12:28:37 - INFO - Extension at synset 26000 - 4350\n",
            "08-Nov-19 12:28:37 - INFO - Extension at synset 27000 - 4374\n",
            "08-Nov-19 12:28:37 - INFO - Extension at synset 28000 - 4434\n",
            "08-Nov-19 12:28:37 - INFO - Extension at synset 29000 - 4506\n",
            "08-Nov-19 12:28:37 - INFO - Extension at synset 30000 - 4523\n",
            "08-Nov-19 12:28:37 - INFO - Extension at synset 31000 - 4727\n",
            "08-Nov-19 12:28:37 - INFO - Extension at synset 32000 - 4912\n",
            "08-Nov-19 12:28:37 - INFO - Extension at synset 33000 - 5118\n",
            "08-Nov-19 12:28:37 - INFO - Extension at synset 34000 - 5194\n",
            "08-Nov-19 12:28:37 - INFO - Extension at synset 35000 - 5256\n",
            "08-Nov-19 12:28:37 - INFO - Extension at synset 36000 - 5361\n",
            "08-Nov-19 12:28:37 - INFO - Extension at synset 37000 - 5542\n",
            "08-Nov-19 12:28:37 - INFO - Extension at synset 38000 - 5684\n",
            "08-Nov-19 12:28:37 - INFO - Extension at synset 39000 - 5835\n",
            "08-Nov-19 12:28:37 - INFO - Extension at synset 40000 - 5929\n",
            "08-Nov-19 12:28:37 - INFO - Extension at synset 41000 - 6055\n",
            "08-Nov-19 12:28:37 - INFO - Extension at synset 42000 - 6157\n",
            "08-Nov-19 12:28:37 - INFO - Extension at synset 43000 - 6309\n",
            "08-Nov-19 12:28:37 - INFO - Extension at synset 44000 - 6424\n",
            "08-Nov-19 12:28:37 - INFO - Extension at synset 45000 - 6569\n",
            "08-Nov-19 12:28:37 - INFO - Extension at synset 46000 - 6720\n",
            "08-Nov-19 12:28:37 - INFO - Extension at synset 47000 - 6790\n",
            "08-Nov-19 12:28:37 - INFO - Extension at synset 48000 - 6803\n",
            "08-Nov-19 12:28:37 - INFO - Extension at synset 49000 - 6807\n",
            "08-Nov-19 12:28:37 - INFO - Extension at synset 50000 - 6824\n",
            "08-Nov-19 12:28:37 - INFO - Extension at synset 51000 - 6835\n",
            "08-Nov-19 12:28:37 - INFO - Extension at synset 52000 - 6872\n",
            "08-Nov-19 12:28:37 - INFO - Extension at synset 53000 - 6888\n",
            "08-Nov-19 12:28:37 - INFO - Extension at synset 54000 - 6891\n",
            "08-Nov-19 12:28:37 - INFO - Extension at synset 55000 - 6901\n",
            "08-Nov-19 12:28:37 - INFO - Extension at synset 56000 - 6923\n",
            "08-Nov-19 12:28:37 - INFO - Extension at synset 57000 - 6937\n",
            "08-Nov-19 12:28:37 - INFO - Extension at synset 58000 - 6941\n",
            "08-Nov-19 12:28:37 - INFO - Extension at synset 59000 - 6970\n",
            "08-Nov-19 12:28:37 - INFO - Extension at synset 60000 - 6984\n",
            "08-Nov-19 12:28:37 - INFO - Extension at synset 61000 - 6986\n",
            "08-Nov-19 12:28:37 - INFO - Extension at synset 62000 - 7022\n",
            "08-Nov-19 12:28:37 - INFO - Extension at synset 63000 - 7134\n",
            "08-Nov-19 12:28:37 - INFO - Extension at synset 64000 - 7257\n",
            "08-Nov-19 12:28:37 - INFO - Extension at synset 65000 - 7338\n",
            "08-Nov-19 12:28:37 - INFO - Extension at synset 66000 - 7436\n",
            "08-Nov-19 12:28:37 - INFO - Extension at synset 67000 - 7530\n",
            "08-Nov-19 12:28:37 - INFO - Extension at synset 68000 - 7604\n",
            "08-Nov-19 12:28:37 - INFO - Extension at synset 69000 - 7681\n",
            "08-Nov-19 12:28:37 - INFO - Extension at synset 70000 - 7769\n",
            "08-Nov-19 12:28:37 - INFO - Extension at synset 71000 - 7838\n",
            "08-Nov-19 12:28:37 - INFO - Extension at synset 72000 - 7911\n",
            "08-Nov-19 12:28:37 - INFO - Extension at synset 73000 - 7985\n",
            "08-Nov-19 12:28:37 - INFO - Extension at synset 74000 - 8070\n",
            "08-Nov-19 12:28:37 - INFO - Extension at synset 75000 - 8182\n",
            "08-Nov-19 12:28:38 - INFO - Extension at synset 76000 - 8254\n",
            "08-Nov-19 12:28:38 - INFO - Extension at synset 77000 - 8330\n",
            "08-Nov-19 12:28:38 - INFO - Extension at synset 78000 - 8413\n",
            "08-Nov-19 12:28:38 - INFO - Extension at synset 79000 - 8508\n",
            "08-Nov-19 12:28:38 - INFO - Extension at synset 80000 - 8601\n",
            "08-Nov-19 12:28:38 - INFO - Extension at synset 81000 - 8771\n",
            "08-Nov-19 12:28:38 - INFO - Extension at synset 82000 - 8902\n",
            "08-Nov-19 12:28:38 - INFO - Extension at synset 83000 - 9100\n",
            "08-Nov-19 12:28:38 - INFO - Extension at synset 84000 - 9275\n",
            "08-Nov-19 12:28:38 - INFO - Extension at synset 85000 - 9448\n",
            "08-Nov-19 12:28:38 - INFO - Extension at synset 86000 - 9610\n",
            "08-Nov-19 12:28:38 - INFO - Extension at synset 87000 - 9704\n",
            "08-Nov-19 12:28:38 - INFO - Extension at synset 88000 - 9753\n",
            "08-Nov-19 12:28:38 - INFO - Extension at synset 89000 - 9819\n",
            "08-Nov-19 12:28:38 - INFO - Extension at synset 90000 - 10005\n",
            "08-Nov-19 12:28:38 - INFO - Extension at synset 91000 - 10193\n",
            "08-Nov-19 12:28:38 - INFO - Extension at synset 92000 - 10349\n",
            "08-Nov-19 12:28:38 - INFO - Extension at synset 93000 - 10494\n",
            "08-Nov-19 12:28:38 - INFO - Extension at synset 94000 - 10552\n",
            "08-Nov-19 12:28:38 - INFO - Extension at synset 95000 - 10652\n",
            "08-Nov-19 12:28:38 - INFO - Extension at synset 96000 - 10768\n",
            "08-Nov-19 12:28:38 - INFO - Extension at synset 97000 - 10850\n",
            "08-Nov-19 12:28:38 - INFO - Extension at synset 98000 - 10997\n",
            "08-Nov-19 12:28:38 - INFO - Extension at synset 99000 - 11170\n",
            "08-Nov-19 12:28:38 - INFO - Extension at synset 100000 - 11271\n",
            "08-Nov-19 12:28:38 - INFO - Extension at synset 101000 - 11315\n",
            "08-Nov-19 12:28:38 - INFO - Extension at synset 102000 - 11415\n",
            "08-Nov-19 12:28:38 - INFO - Extension at synset 103000 - 11613\n",
            "08-Nov-19 12:28:38 - INFO - Extension at synset 104000 - 11767\n",
            "08-Nov-19 12:28:38 - INFO - Extension at synset 105000 - 11937\n",
            "08-Nov-19 12:28:38 - INFO - Extension at synset 106000 - 12113\n",
            "08-Nov-19 12:28:38 - INFO - Extension at synset 107000 - 12281\n",
            "08-Nov-19 12:28:38 - INFO - Extension at synset 108000 - 12323\n",
            "08-Nov-19 12:28:38 - INFO - Extension at synset 109000 - 12356\n",
            "08-Nov-19 12:28:38 - INFO - Extension at synset 110000 - 12378\n",
            "08-Nov-19 12:28:38 - INFO - Extension at synset 111000 - 12444\n",
            "08-Nov-19 12:28:38 - INFO - Extension at synset 112000 - 12552\n",
            "08-Nov-19 12:28:38 - INFO - Extension at synset 113000 - 12664\n",
            "08-Nov-19 12:28:38 - INFO - Extension at synset 114000 - 12756\n",
            "08-Nov-19 12:28:38 - INFO - Extension at synset 115000 - 12878\n",
            "08-Nov-19 12:28:38 - INFO - Extension at synset 116000 - 13036\n",
            "08-Nov-19 12:28:38 - INFO - Extension at synset 117000 - 13099\n",
            "08-Nov-19 12:28:38 - INFO - Extension at synset 118000 - 13167\n",
            "08-Nov-19 12:28:38 - INFO - Extension at synset 119000 - 13269\n",
            "08-Nov-19 12:28:38 - INFO - Extension at synset 120000 - 13384\n",
            "08-Nov-19 12:28:38 - INFO - Extension at synset 121000 - 13448\n",
            "08-Nov-19 12:28:38 - INFO - Extension at synset 122000 - 13512\n",
            "08-Nov-19 12:28:38 - INFO - Extension at synset 123000 - 13570\n",
            "08-Nov-19 12:28:38 - INFO - Extension at synset 124000 - 13629\n",
            "08-Nov-19 12:28:38 - INFO - Extension at synset 125000 - 13736\n",
            "08-Nov-19 12:28:38 - INFO - Extension at synset 126000 - 13876\n",
            "08-Nov-19 12:28:38 - INFO - Extension at synset 127000 - 14053\n",
            "08-Nov-19 12:28:38 - INFO - Extension at synset 128000 - 14174\n",
            "08-Nov-19 12:28:38 - INFO - Extension at synset 129000 - 14328\n",
            "08-Nov-19 12:28:38 - INFO - Extension at synset 130000 - 14507\n",
            "08-Nov-19 12:28:38 - INFO - Extension at synset 131000 - 14607\n",
            "08-Nov-19 12:28:38 - INFO - Extension at synset 132000 - 14760\n",
            "08-Nov-19 12:28:38 - INFO - Extension at synset 133000 - 14883\n",
            "08-Nov-19 12:28:38 - INFO - Extension at synset 134000 - 15007\n",
            "08-Nov-19 12:28:38 - INFO - Extension at synset 135000 - 15104\n",
            "08-Nov-19 12:28:38 - INFO - Extension at synset 136000 - 15107\n",
            "08-Nov-19 12:28:38 - INFO - Extension at synset 137000 - 15111\n",
            "08-Nov-19 12:28:38 - INFO - Extension at synset 138000 - 15113\n",
            "08-Nov-19 12:28:38 - INFO - Extension at synset 139000 - 15126\n",
            "08-Nov-19 12:28:38 - INFO - Extension at synset 140000 - 15135\n",
            "08-Nov-19 12:28:38 - INFO - Extension at synset 141000 - 15142\n",
            "08-Nov-19 12:28:38 - INFO - Extension at synset 142000 - 15157\n",
            "08-Nov-19 12:28:38 - INFO - Extension at synset 143000 - 15163\n",
            "08-Nov-19 12:28:38 - INFO - Extension at synset 144000 - 15246\n",
            "08-Nov-19 12:28:38 - INFO - Extension at synset 145000 - 15296\n",
            "08-Nov-19 12:28:38 - INFO - Extension at synset 146000 - 15316\n",
            "08-Nov-19 12:28:38 - INFO - Extension at synset 147000 - 15329\n",
            "08-Nov-19 12:28:38 - INFO - Extension at synset 148000 - 15332\n",
            "08-Nov-19 12:28:38 - INFO - Extension at synset 149000 - 15333\n",
            "08-Nov-19 12:28:38 - INFO - Extension at synset 150000 - 15338\n",
            "08-Nov-19 12:28:38 - INFO - Extension at synset 151000 - 15341\n",
            "08-Nov-19 12:28:38 - INFO - Extension at synset 152000 - 15349\n",
            "08-Nov-19 12:28:38 - INFO - Extension at synset 153000 - 15351\n",
            "08-Nov-19 12:28:38 - INFO - Extension at synset 154000 - 15362\n",
            "08-Nov-19 12:28:38 - INFO - Extension at synset 155000 - 15363\n",
            "08-Nov-19 12:28:38 - INFO - Extension at synset 156000 - 15369\n",
            "08-Nov-19 12:28:38 - INFO - Extension at synset 157000 - 15376\n",
            "08-Nov-19 12:28:38 - INFO - Extension at synset 158000 - 15383\n",
            "08-Nov-19 12:28:38 - INFO - Extension at synset 159000 - 15394\n",
            "08-Nov-19 12:28:38 - INFO - Extension at synset 160000 - 15396\n",
            "08-Nov-19 12:28:38 - INFO - Extension at synset 161000 - 15400\n",
            "08-Nov-19 12:28:38 - INFO - Extension at synset 162000 - 15410\n",
            "08-Nov-19 12:28:38 - INFO - Extension at synset 163000 - 15417\n",
            "08-Nov-19 12:28:38 - INFO - Extension at synset 164000 - 15513\n",
            "08-Nov-19 12:28:38 - INFO - Extension at synset 165000 - 15613\n",
            "08-Nov-19 12:28:38 - INFO - Extension at synset 166000 - 15685\n",
            "08-Nov-19 12:28:38 - INFO - Extension at synset 167000 - 15742\n",
            "08-Nov-19 12:28:38 - INFO - Extension at synset 168000 - 15964\n",
            "08-Nov-19 12:28:38 - INFO - Extension at synset 169000 - 16125\n",
            "08-Nov-19 12:28:38 - INFO - Extension at synset 170000 - 16294\n",
            "08-Nov-19 12:28:38 - INFO - Extension at synset 171000 - 16415\n",
            "08-Nov-19 12:28:38 - INFO - Extension at synset 172000 - 16463\n",
            "08-Nov-19 12:28:38 - INFO - Extension at synset 173000 - 16506\n",
            "08-Nov-19 12:28:38 - INFO - Extension at synset 174000 - 16603\n",
            "08-Nov-19 12:28:38 - INFO - Extension at synset 175000 - 16770\n",
            "08-Nov-19 12:28:38 - INFO - Extension at synset 176000 - 16857\n",
            "08-Nov-19 12:28:38 - INFO - Extension at synset 177000 - 16926\n",
            "08-Nov-19 12:28:38 - INFO - Extension at synset 178000 - 16998\n",
            "08-Nov-19 12:28:38 - INFO - Extension at synset 179000 - 17039\n",
            "08-Nov-19 12:28:38 - INFO - Extension at synset 180000 - 17100\n",
            "08-Nov-19 12:28:38 - INFO - Extension at synset 181000 - 17247\n",
            "08-Nov-19 12:28:38 - INFO - Extension at synset 182000 - 17400\n",
            "08-Nov-19 12:28:38 - INFO - Extension at synset 183000 - 17690\n",
            "08-Nov-19 12:28:38 - INFO - Extension at synset 184000 - 17841\n",
            "08-Nov-19 12:28:38 - INFO - Extension at synset 185000 - 18032\n",
            "08-Nov-19 12:28:38 - INFO - Extension at synset 186000 - 18245\n",
            "08-Nov-19 12:28:38 - INFO - Extension at synset 187000 - 18387\n",
            "08-Nov-19 12:28:38 - INFO - Extension at synset 188000 - 18578\n",
            "08-Nov-19 12:28:38 - INFO - Extension at synset 189000 - 18763\n",
            "08-Nov-19 12:28:38 - INFO - Extension at synset 190000 - 19052\n",
            "08-Nov-19 12:28:38 - INFO - Extension at synset 191000 - 19261\n",
            "08-Nov-19 12:28:38 - INFO - Extension at synset 192000 - 19491\n",
            "08-Nov-19 12:28:38 - INFO - Extension at synset 193000 - 19706\n",
            "08-Nov-19 12:28:38 - INFO - Extension at synset 194000 - 19848\n",
            "08-Nov-19 12:28:38 - INFO - Extension at synset 195000 - 20032\n",
            "08-Nov-19 12:28:38 - INFO - Extension at synset 196000 - 20248\n",
            "08-Nov-19 12:28:38 - INFO - Extension at synset 197000 - 20436\n",
            "08-Nov-19 12:28:38 - INFO - Extension at synset 198000 - 20604\n",
            "08-Nov-19 12:28:38 - INFO - Extension at synset 199000 - 20833\n",
            "08-Nov-19 12:28:38 - INFO - Extension at synset 200000 - 21003\n",
            "08-Nov-19 12:28:38 - INFO - Extension at synset 201000 - 21203\n",
            "08-Nov-19 12:28:38 - INFO - Extension at synset 202000 - 21389\n",
            "08-Nov-19 12:28:38 - INFO - Extension at synset 203000 - 21580\n",
            "08-Nov-19 12:28:38 - INFO - Extension at synset 204000 - 21774\n",
            "08-Nov-19 12:28:38 - INFO - Extension at synset 205000 - 22043\n",
            "08-Nov-19 12:28:38 - INFO - Extension at synset 206000 - 22286\n",
            "08-Nov-19 12:28:38 - INFO - Extension at hypernym 0 - 22442\n",
            "08-Nov-19 12:28:38 - INFO - Extension at hypernym 1000 - 22442\n",
            "08-Nov-19 12:28:38 - INFO - Extension at hypernym 2000 - 22442\n",
            "08-Nov-19 12:28:38 - INFO - Extension at hypernym 3000 - 22442\n",
            "08-Nov-19 12:28:38 - INFO - Extension at hypernym 4000 - 22442\n",
            "08-Nov-19 12:28:38 - INFO - Extension at hypernym 5000 - 22442\n",
            "08-Nov-19 12:28:38 - INFO - Extension at hypernym 6000 - 22442\n",
            "08-Nov-19 12:28:38 - INFO - Extension at hypernym 7000 - 22442\n",
            "08-Nov-19 12:28:38 - INFO - Extension at hypernym 8000 - 22442\n",
            "08-Nov-19 12:28:38 - INFO - Extension at hypernym 9000 - 22442\n",
            "08-Nov-19 12:28:38 - INFO - Extension at hypernym 10000 - 22442\n",
            "08-Nov-19 12:28:38 - INFO - Extension at hypernym 11000 - 22442\n",
            "08-Nov-19 12:28:38 - INFO - Extension at hypernym 12000 - 22442\n",
            "08-Nov-19 12:28:38 - INFO - Extension at hypernym 13000 - 22442\n",
            "08-Nov-19 12:28:38 - INFO - Extension at hypernym 14000 - 22442\n",
            "08-Nov-19 12:28:38 - INFO - Extension at hypernym 15000 - 22442\n",
            "08-Nov-19 12:28:38 - INFO - Extension at hypernym 16000 - 22442\n",
            "08-Nov-19 12:28:38 - INFO - Extension at hypernym 17000 - 22442\n",
            "08-Nov-19 12:28:38 - INFO - Extension at hypernym 18000 - 22442\n",
            "08-Nov-19 12:28:38 - INFO - Extension at hypernym 19000 - 22442\n",
            "08-Nov-19 12:28:38 - INFO - Extension at hypernym 20000 - 22442\n",
            "08-Nov-19 12:28:38 - INFO - Extension at hypernym 21000 - 22442\n",
            "08-Nov-19 12:28:38 - INFO - Extension at hypernym 22000 - 22442\n",
            "08-Nov-19 12:28:38 - INFO - Extension at hypernym 23000 - 22442\n",
            "08-Nov-19 12:28:38 - INFO - Extension at hypernym 24000 - 22442\n",
            "08-Nov-19 12:28:38 - INFO - Extension at hypernym 25000 - 22442\n",
            "08-Nov-19 12:28:38 - INFO - Extension at hypernym 26000 - 22442\n",
            "08-Nov-19 12:28:38 - INFO - Extension at hypernym 27000 - 22442\n",
            "08-Nov-19 12:28:38 - INFO - Extension at hypernym 28000 - 22442\n",
            "08-Nov-19 12:28:38 - INFO - Extension at hypernym 29000 - 22442\n",
            "08-Nov-19 12:28:38 - INFO - Extension at hypernym 30000 - 22442\n",
            "08-Nov-19 12:28:38 - INFO - Extension at hypernym 31000 - 22442\n",
            "08-Nov-19 12:28:38 - INFO - Extension at hypernym 32000 - 22442\n",
            "08-Nov-19 12:28:38 - INFO - Extension at hypernym 33000 - 22442\n",
            "08-Nov-19 12:28:38 - INFO - Extension at hypernym 34000 - 22442\n",
            "08-Nov-19 12:28:38 - INFO - Extension at hypernym 35000 - 22442\n",
            "08-Nov-19 12:28:38 - INFO - Extension at hypernym 36000 - 22631\n",
            "08-Nov-19 12:28:39 - INFO - Extension at hypernym 37000 - 23158\n",
            "08-Nov-19 12:28:39 - INFO - Extension at hypernym 38000 - 23765\n",
            "08-Nov-19 12:28:39 - INFO - Extension at hypernym 39000 - 24397\n",
            "08-Nov-19 12:28:39 - INFO - Extension at hypernym 40000 - 25140\n",
            "08-Nov-19 12:28:39 - INFO - Extension at hypernym 41000 - 25805\n",
            "08-Nov-19 12:28:39 - INFO - Extension at hypernym 42000 - 26499\n",
            "08-Nov-19 12:28:39 - INFO - Extension at hypernym 43000 - 27133\n",
            "08-Nov-19 12:28:39 - INFO - Extension at hypernym 44000 - 27785\n",
            "08-Nov-19 12:28:39 - INFO - Extension at hypernym 45000 - 28424\n",
            "08-Nov-19 12:28:39 - INFO - Extension at hypernym 46000 - 29032\n",
            "08-Nov-19 12:28:39 - INFO - Extension at hypernym 47000 - 29470\n",
            "08-Nov-19 12:28:39 - INFO - Extension at hypernym 48000 - 30110\n",
            "08-Nov-19 12:28:39 - INFO - Extension at hypernym 49000 - 30961\n",
            "08-Nov-19 12:28:39 - INFO - Extension at hypernym 50000 - 31913\n",
            "08-Nov-19 12:28:39 - INFO - Extension at hypernym 51000 - 32788\n",
            "08-Nov-19 12:28:39 - INFO - Extension at hypernym 52000 - 33581\n",
            "08-Nov-19 12:28:39 - INFO - Extension at hypernym 53000 - 34402\n",
            "08-Nov-19 12:28:39 - INFO - Extension at hypernym 54000 - 35189\n",
            "08-Nov-19 12:28:39 - INFO - Extension at hypernym 55000 - 36133\n",
            "08-Nov-19 12:28:39 - INFO - Extension at hypernym 56000 - 37041\n",
            "08-Nov-19 12:28:39 - INFO - Extension at hypernym 57000 - 37942\n",
            "08-Nov-19 12:28:40 - INFO - Extension at hypernym 58000 - 38868\n",
            "08-Nov-19 12:28:40 - INFO - Extension at hypernym 59000 - 39768\n",
            "08-Nov-19 12:28:40 - INFO - Extension at hypernym 60000 - 40551\n",
            "08-Nov-19 12:28:40 - INFO - Extension at hypernym 61000 - 41439\n",
            "08-Nov-19 12:28:40 - INFO - Extension at hypernym 62000 - 42141\n",
            "08-Nov-19 12:28:40 - INFO - Extension at hypernym 63000 - 42562\n",
            "08-Nov-19 12:28:40 - INFO - Extension at hypernym 64000 - 42991\n",
            "08-Nov-19 12:28:40 - INFO - Extension at hypernym 65000 - 43467\n",
            "08-Nov-19 12:28:40 - INFO - Extension at hypernym 66000 - 43889\n",
            "08-Nov-19 12:28:40 - INFO - Extension at hypernym 67000 - 44357\n",
            "08-Nov-19 12:28:40 - INFO - Extension at hypernym 68000 - 44862\n",
            "08-Nov-19 12:28:40 - INFO - Extension at hypernym 69000 - 45387\n",
            "08-Nov-19 12:28:40 - INFO - Extension at hypernym 70000 - 45906\n",
            "08-Nov-19 12:28:40 - INFO - Extension at hypernym 71000 - 46471\n",
            "08-Nov-19 12:28:40 - INFO - Extension at hypernym 72000 - 47029\n",
            "08-Nov-19 12:28:40 - INFO - Extension at hypernym 73000 - 47600\n",
            "08-Nov-19 12:28:40 - INFO - Extension at hypernym 74000 - 48211\n",
            "08-Nov-19 12:28:40 - INFO - Extension at hypernym 75000 - 48811\n",
            "08-Nov-19 12:28:40 - INFO - Extension at hypernym 76000 - 49442\n",
            "08-Nov-19 12:28:40 - INFO - Extension at hypernym 77000 - 50078\n",
            "08-Nov-19 12:28:40 - INFO - Extension at hypernym 78000 - 50726\n",
            "08-Nov-19 12:28:40 - INFO - Extension at hypernym 79000 - 51378\n",
            "08-Nov-19 12:28:41 - INFO - Extension at hypernym 80000 - 51993\n",
            "08-Nov-19 12:28:41 - INFO - Extension at hypernym 81000 - 52604\n",
            "08-Nov-19 12:28:41 - INFO - Extension at hypernym 82000 - 53286\n",
            "08-Nov-19 12:28:41 - INFO - Extension at hypernym 83000 - 53840\n",
            "08-Nov-19 12:28:41 - INFO - Extension at hypernym 84000 - 54496\n",
            "08-Nov-19 12:28:41 - INFO - Extension at hypernym 85000 - 55107\n",
            "08-Nov-19 12:28:41 - INFO - Extension at hypernym 86000 - 55684\n",
            "08-Nov-19 12:28:41 - INFO - Extension at hypernym 87000 - 56311\n",
            "08-Nov-19 12:28:41 - INFO - Extension at hypernym 88000 - 57143\n",
            "08-Nov-19 12:28:41 - INFO - Extension at hypernym 89000 - 57943\n",
            "08-Nov-19 12:28:41 - INFO - Extension at hypernym 90000 - 58535\n",
            "08-Nov-19 12:28:41 - INFO - Extension at hypernym 91000 - 59043\n",
            "08-Nov-19 12:28:41 - INFO - Extension at hypernym 92000 - 59551\n",
            "08-Nov-19 12:28:41 - INFO - Extension at hypernym 93000 - 60071\n",
            "08-Nov-19 12:28:41 - INFO - Extension at hypernym 94000 - 60849\n",
            "08-Nov-19 12:28:41 - INFO - Extension at hypernym 95000 - 61561\n",
            "08-Nov-19 12:28:41 - INFO - Extension at hypernym 96000 - 62221\n",
            "08-Nov-19 12:28:41 - INFO - Extension at hypernym 97000 - 62725\n",
            "08-Nov-19 12:28:41 - INFO - Extension at hypernym 98000 - 63331\n",
            "08-Nov-19 12:28:41 - INFO - Extension at hypernym 99000 - 63931\n",
            "08-Nov-19 12:28:41 - INFO - Extension at hypernym 100000 - 64684\n",
            "08-Nov-19 12:28:41 - INFO - Extension at hypernym 101000 - 65438\n",
            "08-Nov-19 12:28:41 - INFO - Extension at hypernym 102000 - 66076\n",
            "08-Nov-19 12:28:42 - INFO - Extension at hypernym 103000 - 66642\n",
            "08-Nov-19 12:28:42 - INFO - Extension at hypernym 104000 - 67237\n",
            "08-Nov-19 12:28:42 - INFO - Extension at hypernym 105000 - 67825\n",
            "08-Nov-19 12:28:42 - INFO - Extension at hypernym 106000 - 68401\n",
            "08-Nov-19 12:28:42 - INFO - Extension at hypernym 107000 - 69048\n",
            "08-Nov-19 12:28:42 - INFO - Extension at hypernym 108000 - 69877\n",
            "08-Nov-19 12:28:42 - INFO - Extension at hypernym 109000 - 70682\n",
            "08-Nov-19 12:28:42 - INFO - Extension at hypernym 110000 - 71565\n",
            "08-Nov-19 12:28:42 - INFO - Extension at hypernym 111000 - 72050\n",
            "08-Nov-19 12:28:42 - INFO - Extension at hypernym 112000 - 72700\n",
            "08-Nov-19 12:28:42 - INFO - Extension at hypernym 113000 - 73311\n",
            "08-Nov-19 12:28:42 - INFO - Extension at hypernym 114000 - 74016\n",
            "08-Nov-19 12:28:42 - INFO - Extension at hypernym 115000 - 74601\n",
            "08-Nov-19 12:28:42 - INFO - Extension at hypernym 116000 - 75027\n",
            "08-Nov-19 12:28:42 - INFO - Extension at hypernym 117000 - 75051\n",
            "08-Nov-19 12:28:42 - INFO - Extension at hypernym 118000 - 75059\n",
            "08-Nov-19 12:28:42 - INFO - Extension at hypernym 119000 - 75068\n",
            "08-Nov-19 12:28:42 - INFO - Extension at hypernym 120000 - 75160\n",
            "08-Nov-19 12:28:42 - INFO - Extension at hypernym 121000 - 75434\n",
            "08-Nov-19 12:28:42 - INFO - Extension at hypernym 122000 - 75765\n",
            "08-Nov-19 12:28:42 - INFO - Extension at hypernym 123000 - 76027\n",
            "08-Nov-19 12:28:42 - INFO - Extension at hypernym 124000 - 76635\n",
            "08-Nov-19 12:28:42 - INFO - Extension at hypernym 125000 - 77272\n",
            "08-Nov-19 12:28:42 - INFO - Extension at hypernym 126000 - 77792\n",
            "08-Nov-19 12:28:42 - INFO - Extension at hypernym 127000 - 78268\n",
            "08-Nov-19 12:28:42 - INFO - Extension at hypernym 128000 - 78840\n",
            "08-Nov-19 12:28:42 - INFO - Extension at hypernym 129000 - 79435\n",
            "08-Nov-19 12:28:42 - INFO - Extension at hypernym 130000 - 79998\n",
            "08-Nov-19 12:28:43 - INFO - Extension at hypernym 131000 - 80672\n",
            "08-Nov-19 12:28:43 - INFO - Extension at hypernym 132000 - 81287\n",
            "08-Nov-19 12:28:43 - INFO - Extension at hypernym 133000 - 81952\n",
            "08-Nov-19 12:28:43 - INFO - Extension at hypernym 134000 - 82639\n",
            "08-Nov-19 12:28:43 - INFO - Extension at hypernym 135000 - 83283\n",
            "08-Nov-19 12:28:43 - INFO - Extension at hypernym 136000 - 83287\n",
            "08-Nov-19 12:28:43 - INFO - Extension at hypernym 137000 - 83292\n",
            "08-Nov-19 12:28:43 - INFO - Extension at hypernym 138000 - 83294\n",
            "08-Nov-19 12:28:43 - INFO - Extension at hypernym 139000 - 83299\n",
            "08-Nov-19 12:28:43 - INFO - Extension at hypernym 140000 - 83299\n",
            "08-Nov-19 12:28:43 - INFO - Extension at hypernym 141000 - 83314\n",
            "08-Nov-19 12:28:43 - INFO - Extension at hypernym 142000 - 83314\n",
            "08-Nov-19 12:28:43 - INFO - Extension at hypernym 143000 - 83321\n",
            "08-Nov-19 12:28:43 - INFO - Extension at hypernym 144000 - 83748\n",
            "08-Nov-19 12:28:43 - INFO - Extension at hypernym 145000 - 84374\n",
            "08-Nov-19 12:28:43 - INFO - Extension at hypernym 146000 - 84929\n",
            "08-Nov-19 12:28:43 - INFO - Extension at hypernym 147000 - 85756\n",
            "08-Nov-19 12:28:43 - INFO - Extension at hypernym 148000 - 86630\n",
            "08-Nov-19 12:28:43 - INFO - Extension at hypernym 149000 - 87508\n",
            "08-Nov-19 12:28:43 - INFO - Extension at hypernym 150000 - 88488\n",
            "08-Nov-19 12:28:43 - INFO - Extension at hypernym 151000 - 89237\n",
            "08-Nov-19 12:28:43 - INFO - Extension at hypernym 152000 - 90149\n",
            "08-Nov-19 12:28:43 - INFO - Extension at hypernym 153000 - 90993\n",
            "08-Nov-19 12:28:43 - INFO - Extension at hypernym 154000 - 91854\n",
            "08-Nov-19 12:28:43 - INFO - Extension at hypernym 155000 - 92367\n",
            "08-Nov-19 12:28:43 - INFO - Extension at hypernym 156000 - 93256\n",
            "08-Nov-19 12:28:44 - INFO - Extension at hypernym 157000 - 94036\n",
            "08-Nov-19 12:28:44 - INFO - Extension at hypernym 158000 - 94888\n",
            "08-Nov-19 12:28:44 - INFO - Extension at hypernym 159000 - 95703\n",
            "08-Nov-19 12:28:44 - INFO - Extension at hypernym 160000 - 96609\n",
            "08-Nov-19 12:28:44 - INFO - Extension at hypernym 161000 - 97313\n",
            "08-Nov-19 12:28:44 - INFO - Extension at hypernym 162000 - 98247\n",
            "08-Nov-19 12:28:44 - INFO - Extension at hypernym 163000 - 98782\n",
            "08-Nov-19 12:28:44 - INFO - Extension at hypernym 164000 - 99478\n",
            "08-Nov-19 12:28:44 - INFO - Extension at hypernym 165000 - 100052\n",
            "08-Nov-19 12:28:44 - INFO - Extension at hypernym 166000 - 100658\n",
            "08-Nov-19 12:28:44 - INFO - Extension at hypernym 167000 - 101531\n",
            "08-Nov-19 12:28:44 - INFO - Extension at hypernym 168000 - 102143\n",
            "08-Nov-19 12:28:44 - INFO - Extension at hypernym 169000 - 102720\n",
            "08-Nov-19 12:28:44 - INFO - Extension at hypernym 170000 - 103259\n",
            "08-Nov-19 12:28:44 - INFO - Extension at hypernym 171000 - 103898\n",
            "08-Nov-19 12:28:44 - INFO - Extension at hypernym 172000 - 104566\n",
            "08-Nov-19 12:28:44 - INFO - Extension at hypernym 173000 - 105277\n",
            "08-Nov-19 12:28:44 - INFO - Extension at hypernym 174000 - 106026\n",
            "08-Nov-19 12:28:44 - INFO - Extension at hypernym 175000 - 106588\n",
            "08-Nov-19 12:28:44 - INFO - Extension at hypernym 176000 - 107283\n",
            "08-Nov-19 12:28:44 - INFO - Extension at hypernym 177000 - 107958\n",
            "08-Nov-19 12:28:45 - INFO - Extension at hypernym 178000 - 108539\n",
            "08-Nov-19 12:28:45 - INFO - Extension at hypernym 179000 - 109245\n",
            "08-Nov-19 12:28:45 - INFO - Extension at hypernym 180000 - 110021\n",
            "08-Nov-19 12:28:45 - INFO - Extension at hypernym 181000 - 110556\n",
            "08-Nov-19 12:28:45 - INFO - Extension at hypernym 182000 - 111108\n",
            "08-Nov-19 12:28:45 - INFO - Extension at hypernym 183000 - 111521\n",
            "08-Nov-19 12:28:45 - INFO - Extension at hypernym 184000 - 112047\n",
            "08-Nov-19 12:28:45 - INFO - Extension at hypernym 185000 - 112534\n",
            "08-Nov-19 12:28:45 - INFO - Extension at hypernym 186000 - 112963\n",
            "08-Nov-19 12:28:45 - INFO - Extension at hypernym 187000 - 113522\n",
            "08-Nov-19 12:28:45 - INFO - Extension at hypernym 188000 - 113954\n",
            "08-Nov-19 12:28:45 - INFO - Extension at hypernym 189000 - 114288\n",
            "08-Nov-19 12:28:45 - INFO - Extension at hypernym 190000 - 114597\n",
            "08-Nov-19 12:28:45 - INFO - Extension at hypernym 191000 - 114955\n",
            "08-Nov-19 12:28:45 - INFO - Extension at hypernym 192000 - 115327\n",
            "08-Nov-19 12:28:45 - INFO - Extension at hypernym 193000 - 115726\n",
            "08-Nov-19 12:28:45 - INFO - Extension at hypernym 194000 - 116272\n",
            "08-Nov-19 12:28:45 - INFO - Extension at hypernym 195000 - 116783\n",
            "08-Nov-19 12:28:45 - INFO - Extension at hypernym 196000 - 117220\n",
            "08-Nov-19 12:28:45 - INFO - Extension at hypernym 197000 - 117643\n",
            "08-Nov-19 12:28:45 - INFO - Extension at hypernym 198000 - 118124\n",
            "08-Nov-19 12:28:45 - INFO - Extension at hypernym 199000 - 118484\n",
            "08-Nov-19 12:28:45 - INFO - Extension at hypernym 200000 - 118879\n",
            "08-Nov-19 12:28:45 - INFO - Extension at hypernym 201000 - 119216\n",
            "08-Nov-19 12:28:45 - INFO - Extension at hypernym 202000 - 119582\n",
            "08-Nov-19 12:28:45 - INFO - Extension at hypernym 203000 - 119989\n",
            "08-Nov-19 12:28:45 - INFO - Extension at hypernym 204000 - 120352\n",
            "08-Nov-19 12:28:45 - INFO - Extension at hypernym 205000 - 120633\n",
            "08-Nov-19 12:28:45 - INFO - Extension at hypernym 206000 - 120933\n",
            "08-Nov-19 12:28:45 - INFO - Preparing lexname vecs ...\n",
            "08-Nov-19 12:28:50 - INFO - Extension at lexname 0 - 121236\n",
            "08-Nov-19 12:28:50 - INFO - Extension at lexname 1000 - 121892\n",
            "08-Nov-19 12:28:50 - INFO - Extension at lexname 2000 - 122514\n",
            "08-Nov-19 12:28:50 - INFO - Extension at lexname 3000 - 123130\n",
            "08-Nov-19 12:28:50 - INFO - Extension at lexname 4000 - 123854\n",
            "08-Nov-19 12:28:50 - INFO - Extension at lexname 5000 - 124417\n",
            "08-Nov-19 12:28:50 - INFO - Extension at lexname 6000 - 124998\n",
            "08-Nov-19 12:28:50 - INFO - Extension at lexname 7000 - 125609\n",
            "08-Nov-19 12:28:50 - INFO - Extension at lexname 8000 - 126199\n",
            "08-Nov-19 12:28:50 - INFO - Extension at lexname 9000 - 126774\n",
            "08-Nov-19 12:28:50 - INFO - Extension at lexname 10000 - 127321\n",
            "08-Nov-19 12:28:50 - INFO - Extension at lexname 11000 - 127874\n",
            "08-Nov-19 12:28:50 - INFO - Extension at lexname 12000 - 128504\n",
            "08-Nov-19 12:28:50 - INFO - Extension at lexname 13000 - 129046\n",
            "08-Nov-19 12:28:50 - INFO - Extension at lexname 14000 - 129615\n",
            "08-Nov-19 12:28:50 - INFO - Extension at lexname 15000 - 130234\n",
            "08-Nov-19 12:28:50 - INFO - Extension at lexname 16000 - 130730\n",
            "08-Nov-19 12:28:50 - INFO - Extension at lexname 17000 - 131308\n",
            "08-Nov-19 12:28:50 - INFO - Extension at lexname 18000 - 131842\n",
            "08-Nov-19 12:28:50 - INFO - Extension at lexname 19000 - 132413\n",
            "08-Nov-19 12:28:50 - INFO - Extension at lexname 20000 - 132999\n",
            "08-Nov-19 12:28:50 - INFO - Extension at lexname 21000 - 133655\n",
            "08-Nov-19 12:28:50 - INFO - Extension at lexname 22000 - 134378\n",
            "08-Nov-19 12:28:50 - INFO - Extension at lexname 23000 - 134987\n",
            "08-Nov-19 12:28:50 - INFO - Extension at lexname 24000 - 135602\n",
            "08-Nov-19 12:28:50 - INFO - Extension at lexname 25000 - 136207\n",
            "08-Nov-19 12:28:50 - INFO - Extension at lexname 26000 - 137116\n",
            "08-Nov-19 12:28:50 - INFO - Extension at lexname 27000 - 137986\n",
            "08-Nov-19 12:28:50 - INFO - Extension at lexname 28000 - 138754\n",
            "08-Nov-19 12:28:50 - INFO - Extension at lexname 29000 - 139416\n",
            "08-Nov-19 12:28:50 - INFO - Extension at lexname 30000 - 140329\n",
            "08-Nov-19 12:28:50 - INFO - Extension at lexname 31000 - 140570\n",
            "08-Nov-19 12:28:50 - INFO - Extension at lexname 32000 - 140922\n",
            "08-Nov-19 12:28:50 - INFO - Extension at lexname 33000 - 141219\n",
            "08-Nov-19 12:28:50 - INFO - Extension at lexname 34000 - 142023\n",
            "08-Nov-19 12:28:50 - INFO - Extension at lexname 35000 - 142855\n",
            "08-Nov-19 12:28:50 - INFO - Extension at lexname 36000 - 143311\n",
            "08-Nov-19 12:28:50 - INFO - Extension at lexname 37000 - 143402\n",
            "08-Nov-19 12:28:50 - INFO - Extension at lexname 38000 - 143445\n",
            "08-Nov-19 12:28:50 - INFO - Extension at lexname 39000 - 143474\n",
            "08-Nov-19 12:28:50 - INFO - Extension at lexname 40000 - 143492\n",
            "08-Nov-19 12:28:50 - INFO - Extension at lexname 41000 - 143517\n",
            "08-Nov-19 12:28:50 - INFO - Extension at lexname 42000 - 143613\n",
            "08-Nov-19 12:28:50 - INFO - Extension at lexname 43000 - 143653\n",
            "08-Nov-19 12:28:50 - INFO - Extension at lexname 44000 - 143681\n",
            "08-Nov-19 12:28:50 - INFO - Extension at lexname 45000 - 143692\n",
            "08-Nov-19 12:28:50 - INFO - Extension at lexname 46000 - 143713\n",
            "08-Nov-19 12:28:50 - INFO - Extension at lexname 47000 - 144091\n",
            "08-Nov-19 12:28:50 - INFO - Extension at lexname 48000 - 144415\n",
            "08-Nov-19 12:28:50 - INFO - Extension at lexname 49000 - 144553\n",
            "08-Nov-19 12:28:50 - INFO - Extension at lexname 50000 - 144571\n",
            "08-Nov-19 12:28:50 - INFO - Extension at lexname 51000 - 144672\n",
            "08-Nov-19 12:28:50 - INFO - Extension at lexname 52000 - 144811\n",
            "08-Nov-19 12:28:50 - INFO - Extension at lexname 53000 - 144953\n",
            "08-Nov-19 12:28:50 - INFO - Extension at lexname 54000 - 145155\n",
            "08-Nov-19 12:28:50 - INFO - Extension at lexname 55000 - 145189\n",
            "08-Nov-19 12:28:50 - INFO - Extension at lexname 56000 - 145229\n",
            "08-Nov-19 12:28:50 - INFO - Extension at lexname 57000 - 145289\n",
            "08-Nov-19 12:28:50 - INFO - Extension at lexname 58000 - 145344\n",
            "08-Nov-19 12:28:50 - INFO - Extension at lexname 59000 - 145376\n",
            "08-Nov-19 12:28:50 - INFO - Extension at lexname 60000 - 145557\n",
            "08-Nov-19 12:28:50 - INFO - Extension at lexname 61000 - 145665\n",
            "08-Nov-19 12:28:50 - INFO - Extension at lexname 62000 - 145874\n",
            "08-Nov-19 12:28:50 - INFO - Extension at lexname 63000 - 146199\n",
            "08-Nov-19 12:28:50 - INFO - Extension at lexname 64000 - 146518\n",
            "08-Nov-19 12:28:50 - INFO - Extension at lexname 65000 - 146835\n",
            "08-Nov-19 12:28:50 - INFO - Extension at lexname 66000 - 147184\n",
            "08-Nov-19 12:28:50 - INFO - Extension at lexname 67000 - 147507\n",
            "08-Nov-19 12:28:50 - INFO - Extension at lexname 68000 - 147817\n",
            "08-Nov-19 12:28:50 - INFO - Extension at lexname 69000 - 148098\n",
            "08-Nov-19 12:28:50 - INFO - Extension at lexname 70000 - 148376\n",
            "08-Nov-19 12:28:50 - INFO - Extension at lexname 71000 - 148622\n",
            "08-Nov-19 12:28:50 - INFO - Extension at lexname 72000 - 148859\n",
            "08-Nov-19 12:28:50 - INFO - Extension at lexname 73000 - 149118\n",
            "08-Nov-19 12:28:50 - INFO - Extension at lexname 74000 - 149307\n",
            "08-Nov-19 12:28:50 - INFO - Extension at lexname 75000 - 149493\n",
            "08-Nov-19 12:28:50 - INFO - Extension at lexname 76000 - 149648\n",
            "08-Nov-19 12:28:50 - INFO - Extension at lexname 77000 - 149792\n",
            "08-Nov-19 12:28:50 - INFO - Extension at lexname 78000 - 149917\n",
            "08-Nov-19 12:28:50 - INFO - Extension at lexname 79000 - 150051\n",
            "08-Nov-19 12:28:50 - INFO - Extension at lexname 80000 - 150202\n",
            "08-Nov-19 12:28:50 - INFO - Extension at lexname 81000 - 150250\n",
            "08-Nov-19 12:28:50 - INFO - Extension at lexname 82000 - 150267\n",
            "08-Nov-19 12:28:50 - INFO - Extension at lexname 83000 - 150337\n",
            "08-Nov-19 12:28:50 - INFO - Extension at lexname 84000 - 150345\n",
            "08-Nov-19 12:28:50 - INFO - Extension at lexname 85000 - 150350\n",
            "08-Nov-19 12:28:50 - INFO - Extension at lexname 86000 - 150354\n",
            "08-Nov-19 12:28:50 - INFO - Extension at lexname 87000 - 150535\n",
            "08-Nov-19 12:28:50 - INFO - Extension at lexname 88000 - 150601\n",
            "08-Nov-19 12:28:50 - INFO - Extension at lexname 89000 - 150669\n",
            "08-Nov-19 12:28:50 - INFO - Extension at lexname 90000 - 150703\n",
            "08-Nov-19 12:28:50 - INFO - Extension at lexname 91000 - 150762\n",
            "08-Nov-19 12:28:50 - INFO - Extension at lexname 92000 - 150780\n",
            "08-Nov-19 12:28:50 - INFO - Extension at lexname 93000 - 150846\n",
            "08-Nov-19 12:28:50 - INFO - Extension at lexname 94000 - 150904\n",
            "08-Nov-19 12:28:50 - INFO - Extension at lexname 95000 - 150925\n",
            "08-Nov-19 12:28:50 - INFO - Extension at lexname 96000 - 150984\n",
            "08-Nov-19 12:28:50 - INFO - Extension at lexname 97000 - 151255\n",
            "08-Nov-19 12:28:50 - INFO - Extension at lexname 98000 - 151330\n",
            "08-Nov-19 12:28:50 - INFO - Extension at lexname 99000 - 151344\n",
            "08-Nov-19 12:28:50 - INFO - Extension at lexname 100000 - 151369\n",
            "08-Nov-19 12:28:50 - INFO - Extension at lexname 101000 - 151501\n",
            "08-Nov-19 12:28:50 - INFO - Extension at lexname 102000 - 151612\n",
            "08-Nov-19 12:28:50 - INFO - Extension at lexname 103000 - 151628\n",
            "08-Nov-19 12:28:50 - INFO - Extension at lexname 104000 - 151661\n",
            "08-Nov-19 12:28:50 - INFO - Extension at lexname 105000 - 151697\n",
            "08-Nov-19 12:28:50 - INFO - Extension at lexname 106000 - 151702\n",
            "08-Nov-19 12:28:50 - INFO - Extension at lexname 107000 - 151734\n",
            "08-Nov-19 12:28:50 - INFO - Extension at lexname 108000 - 151812\n",
            "08-Nov-19 12:28:50 - INFO - Extension at lexname 109000 - 151931\n",
            "08-Nov-19 12:28:50 - INFO - Extension at lexname 110000 - 151976\n",
            "08-Nov-19 12:28:50 - INFO - Extension at lexname 111000 - 152288\n",
            "08-Nov-19 12:28:50 - INFO - Extension at lexname 112000 - 152371\n",
            "08-Nov-19 12:28:50 - INFO - Extension at lexname 113000 - 152414\n",
            "08-Nov-19 12:28:50 - INFO - Extension at lexname 114000 - 152458\n",
            "08-Nov-19 12:28:50 - INFO - Extension at lexname 115000 - 152548\n",
            "08-Nov-19 12:28:50 - INFO - Extension at lexname 116000 - 152698\n",
            "08-Nov-19 12:28:50 - INFO - Extension at lexname 117000 - 153558\n",
            "08-Nov-19 12:28:50 - INFO - Extension at lexname 118000 - 154431\n",
            "08-Nov-19 12:28:50 - INFO - Extension at lexname 119000 - 155237\n",
            "08-Nov-19 12:28:50 - INFO - Extension at lexname 120000 - 155913\n",
            "08-Nov-19 12:28:50 - INFO - Extension at lexname 121000 - 156462\n",
            "08-Nov-19 12:28:50 - INFO - Extension at lexname 122000 - 156934\n",
            "08-Nov-19 12:28:50 - INFO - Extension at lexname 123000 - 157552\n",
            "08-Nov-19 12:28:50 - INFO - Extension at lexname 124000 - 157792\n",
            "08-Nov-19 12:28:50 - INFO - Extension at lexname 125000 - 157906\n",
            "08-Nov-19 12:28:50 - INFO - Extension at lexname 126000 - 158079\n",
            "08-Nov-19 12:28:50 - INFO - Extension at lexname 127000 - 158215\n",
            "08-Nov-19 12:28:50 - INFO - Extension at lexname 128000 - 158398\n",
            "08-Nov-19 12:28:50 - INFO - Extension at lexname 129000 - 158518\n",
            "08-Nov-19 12:28:50 - INFO - Extension at lexname 130000 - 158614\n",
            "08-Nov-19 12:28:50 - INFO - Extension at lexname 131000 - 158701\n",
            "08-Nov-19 12:28:50 - INFO - Extension at lexname 132000 - 158770\n",
            "08-Nov-19 12:28:50 - INFO - Extension at lexname 133000 - 158846\n",
            "08-Nov-19 12:28:50 - INFO - Extension at lexname 134000 - 158898\n",
            "08-Nov-19 12:28:50 - INFO - Extension at lexname 135000 - 159052\n",
            "08-Nov-19 12:28:50 - INFO - Extension at lexname 136000 - 160040\n",
            "08-Nov-19 12:28:50 - INFO - Extension at lexname 137000 - 161028\n",
            "08-Nov-19 12:28:50 - INFO - Extension at lexname 138000 - 162022\n",
            "08-Nov-19 12:28:50 - INFO - Extension at lexname 139000 - 162994\n",
            "08-Nov-19 12:28:50 - INFO - Extension at lexname 140000 - 163977\n",
            "08-Nov-19 12:28:50 - INFO - Extension at lexname 141000 - 164950\n",
            "08-Nov-19 12:28:50 - INFO - Extension at lexname 142000 - 165930\n",
            "08-Nov-19 12:28:50 - INFO - Extension at lexname 143000 - 166912\n",
            "08-Nov-19 12:28:50 - INFO - Extension at lexname 144000 - 167250\n",
            "08-Nov-19 12:28:50 - INFO - Extension at lexname 145000 - 167501\n",
            "08-Nov-19 12:28:50 - INFO - Extension at lexname 146000 - 167908\n",
            "08-Nov-19 12:28:50 - INFO - Extension at lexname 147000 - 168059\n",
            "08-Nov-19 12:28:50 - INFO - Extension at lexname 148000 - 168179\n",
            "08-Nov-19 12:28:50 - INFO - Extension at lexname 149000 - 168296\n",
            "08-Nov-19 12:28:50 - INFO - Extension at lexname 150000 - 168308\n",
            "08-Nov-19 12:28:50 - INFO - Extension at lexname 151000 - 168550\n",
            "08-Nov-19 12:28:50 - INFO - Extension at lexname 152000 - 168623\n",
            "08-Nov-19 12:28:50 - INFO - Extension at lexname 153000 - 168769\n",
            "08-Nov-19 12:28:50 - INFO - Extension at lexname 154000 - 168888\n",
            "08-Nov-19 12:28:50 - INFO - Extension at lexname 155000 - 169371\n",
            "08-Nov-19 12:28:50 - INFO - Extension at lexname 156000 - 169475\n",
            "08-Nov-19 12:28:50 - INFO - Extension at lexname 157000 - 169683\n",
            "08-Nov-19 12:28:50 - INFO - Extension at lexname 158000 - 169816\n",
            "08-Nov-19 12:28:50 - INFO - Extension at lexname 159000 - 169981\n",
            "08-Nov-19 12:28:50 - INFO - Extension at lexname 160000 - 170070\n",
            "08-Nov-19 12:28:50 - INFO - Extension at lexname 161000 - 170360\n",
            "08-Nov-19 12:28:50 - INFO - Extension at lexname 162000 - 170389\n",
            "08-Nov-19 12:28:50 - INFO - Extension at lexname 163000 - 170837\n",
            "08-Nov-19 12:28:50 - INFO - Extension at lexname 164000 - 170866\n",
            "08-Nov-19 12:28:50 - INFO - Extension at lexname 165000 - 171053\n",
            "08-Nov-19 12:28:50 - INFO - Extension at lexname 166000 - 171257\n",
            "08-Nov-19 12:28:50 - INFO - Extension at lexname 167000 - 171262\n",
            "08-Nov-19 12:28:50 - INFO - Extension at lexname 168000 - 171265\n",
            "08-Nov-19 12:28:50 - INFO - Extension at lexname 169000 - 171336\n",
            "08-Nov-19 12:28:50 - INFO - Extension at lexname 170000 - 171377\n",
            "08-Nov-19 12:28:50 - INFO - Extension at lexname 171000 - 171514\n",
            "08-Nov-19 12:28:50 - INFO - Extension at lexname 172000 - 171747\n",
            "08-Nov-19 12:28:50 - INFO - Extension at lexname 173000 - 171941\n",
            "08-Nov-19 12:28:50 - INFO - Extension at lexname 174000 - 171971\n",
            "08-Nov-19 12:28:50 - INFO - Extension at lexname 175000 - 172012\n",
            "08-Nov-19 12:28:50 - INFO - Extension at lexname 176000 - 172146\n",
            "08-Nov-19 12:28:50 - INFO - Extension at lexname 177000 - 172328\n",
            "08-Nov-19 12:28:50 - INFO - Extension at lexname 178000 - 172542\n",
            "08-Nov-19 12:28:50 - INFO - Extension at lexname 179000 - 172716\n",
            "08-Nov-19 12:28:50 - INFO - Extension at lexname 180000 - 172780\n",
            "08-Nov-19 12:28:50 - INFO - Extension at lexname 181000 - 172927\n",
            "08-Nov-19 12:28:50 - INFO - Extension at lexname 182000 - 172974\n",
            "08-Nov-19 12:28:50 - INFO - Extension at lexname 183000 - 173009\n",
            "08-Nov-19 12:28:50 - INFO - Extension at lexname 184000 - 173038\n",
            "08-Nov-19 12:28:50 - INFO - Extension at lexname 185000 - 173099\n",
            "08-Nov-19 12:28:50 - INFO - Extension at lexname 186000 - 173118\n",
            "08-Nov-19 12:28:50 - INFO - Extension at lexname 187000 - 173137\n",
            "08-Nov-19 12:28:50 - INFO - Extension at lexname 188000 - 173153\n",
            "08-Nov-19 12:28:50 - INFO - Extension at lexname 189000 - 173172\n",
            "08-Nov-19 12:28:50 - INFO - Extension at lexname 190000 - 173182\n",
            "08-Nov-19 12:28:50 - INFO - Extension at lexname 191000 - 173195\n",
            "08-Nov-19 12:28:50 - INFO - Extension at lexname 192000 - 173211\n",
            "08-Nov-19 12:28:50 - INFO - Extension at lexname 193000 - 173242\n",
            "08-Nov-19 12:28:50 - INFO - Extension at lexname 194000 - 173269\n",
            "08-Nov-19 12:28:50 - INFO - Extension at lexname 195000 - 173286\n",
            "08-Nov-19 12:28:50 - INFO - Extension at lexname 196000 - 173309\n",
            "08-Nov-19 12:28:50 - INFO - Extension at lexname 197000 - 173327\n",
            "08-Nov-19 12:28:50 - INFO - Extension at lexname 198000 - 173347\n",
            "08-Nov-19 12:28:50 - INFO - Extension at lexname 199000 - 173379\n",
            "08-Nov-19 12:28:50 - INFO - Extension at lexname 200000 - 173395\n",
            "08-Nov-19 12:28:50 - INFO - Extension at lexname 201000 - 173409\n",
            "08-Nov-19 12:28:50 - INFO - Extension at lexname 202000 - 173476\n",
            "08-Nov-19 12:28:50 - INFO - Extension at lexname 203000 - 173493\n",
            "08-Nov-19 12:28:50 - INFO - Extension at lexname 204000 - 173506\n",
            "08-Nov-19 12:28:50 - INFO - Extension at lexname 205000 - 173524\n",
            "08-Nov-19 12:28:50 - INFO - Extension at lexname 206000 - 173546\n",
            "08-Nov-19 12:28:50 - INFO - Writing vecs ...\n",
            "08-Nov-19 12:28:50 - INFO - n_vecs: 206949 - 206949\n",
            "08-Nov-19 12:28:50 - INFO - Coverage: 1.000000\n",
            "CPU times: user 594 ms, sys: 81.3 ms, total: 676 ms\n",
            "Wall time: 1min 22s\n"
          ],
          "name": "stdout"
        }
      ]
    },
    {
      "cell_type": "markdown",
      "metadata": {
        "id": "1rJUnJDqw9fc",
        "colab_type": "text"
      },
      "source": [
        "## **Evaluation**"
      ]
    },
    {
      "cell_type": "markdown",
      "metadata": {
        "id": "ea8OjLFSPyNI",
        "colab_type": "text"
      },
      "source": [
        "The evaluation of our embeddings will be perfomed with the java Scorer script."
      ]
    },
    {
      "cell_type": "code",
      "metadata": {
        "id": "eiLfiN20SRed",
        "colab_type": "code",
        "outputId": "866c374b-78e7-4d55-d949-a11c92cdfb1f",
        "colab": {
          "base_uri": "https://localhost:8080/",
          "height": 50
        }
      },
      "source": [
        "%cd external/wsd_eval/WSD_Evaluation_Framework/Evaluation_Datasets/\n",
        "!javac Scorer.java\n",
        "%cd /content/LMMS/"
      ],
      "execution_count": 0,
      "outputs": [
        {
          "output_type": "stream",
          "text": [
            "/content/LMMS/external/wsd_eval/WSD_Evaluation_Framework/Evaluation_Datasets\n",
            "/content/LMMS\n"
          ],
          "name": "stdout"
        }
      ]
    },
    {
      "cell_type": "markdown",
      "metadata": {
        "id": "iYXwEYyEpE1j",
        "colab_type": "text"
      },
      "source": [
        "SemCor counts on five different test subsets: **senseval2, senseval3, semeval2007, semeval2013** and **semeval2015**. Also, there is a test set with all these subsets called \"**all**\". Because of limited time, we will evaluate our embeddings only with semeval2015, but feel free to use anyone else at the end of the tutorial."
      ]
    },
    {
      "cell_type": "code",
      "metadata": {
        "id": "ynDE18JrdJjR",
        "colab_type": "code",
        "outputId": "c7ee4bbe-7cb0-4601-d0ea-81db9661547d",
        "colab": {
          "base_uri": "https://localhost:8080/",
          "height": 1000
        }
      },
      "source": [
        "%%time\n",
        "!python eval_nn.py -backend transformers -sv_path data/vectors/semcor_ext.3-512.vecs.npz -test_set semeval2015"
      ],
      "execution_count": 0,
      "outputs": [
        {
          "output_type": "stream",
          "text": [
            "08-Nov-19 12:29:44 - INFO - Loading SensesVSM ...\n",
            "08-Nov-19 12:29:50 - INFO - Loaded SensesVSM\n",
            "08-Nov-19 12:29:50 - INFO - Creating TransformerSentenceEncoder\n",
            "08-Nov-19 12:29:50 - DEBUG - Starting new HTTPS connection (1): s3.amazonaws.com:443\n",
            "08-Nov-19 12:29:50 - DEBUG - https://s3.amazonaws.com:443 \"HEAD /models.huggingface.co/bert/bert-large-cased-vocab.txt HTTP/1.1\" 200 0\n",
            "08-Nov-19 12:29:50 - INFO - loading file https://s3.amazonaws.com/models.huggingface.co/bert/bert-large-cased-vocab.txt from cache at /root/.cache/torch/transformers/cee054f6aafe5e2cf816d2228704e326446785f940f5451a5b26033516a4ac3d.e13dbb970cb325137104fb2e5f36fe865f27746c6b526f6352861b1980eb80b1\n",
            "08-Nov-19 12:29:50 - DEBUG - Starting new HTTPS connection (1): s3.amazonaws.com:443\n",
            "08-Nov-19 12:29:51 - DEBUG - https://s3.amazonaws.com:443 \"HEAD /models.huggingface.co/bert/bert-large-cased-config.json HTTP/1.1\" 200 0\n",
            "08-Nov-19 12:29:51 - INFO - loading configuration file https://s3.amazonaws.com/models.huggingface.co/bert/bert-large-cased-config.json from cache at /root/.cache/torch/transformers/90deb4d9dd705272dc4b3db1364d759d551d72a9f70a91f60e3a1f5e278b985d.e1d0cd972de64b28f3a5bee0ffccda07658b2b3e827e0ef38c5799e9aaa23f19\n",
            "08-Nov-19 12:29:51 - INFO - Model config {\n",
            "  \"attention_probs_dropout_prob\": 0.1,\n",
            "  \"directionality\": \"bidi\",\n",
            "  \"finetuning_task\": null,\n",
            "  \"hidden_act\": \"gelu\",\n",
            "  \"hidden_dropout_prob\": 0.1,\n",
            "  \"hidden_size\": 1024,\n",
            "  \"initializer_range\": 0.02,\n",
            "  \"intermediate_size\": 4096,\n",
            "  \"layer_norm_eps\": 1e-12,\n",
            "  \"max_position_embeddings\": 512,\n",
            "  \"num_attention_heads\": 16,\n",
            "  \"num_hidden_layers\": 24,\n",
            "  \"num_labels\": 2,\n",
            "  \"output_attentions\": false,\n",
            "  \"output_hidden_states\": true,\n",
            "  \"output_past\": true,\n",
            "  \"pooler_fc_size\": 768,\n",
            "  \"pooler_num_attention_heads\": 12,\n",
            "  \"pooler_num_fc_layers\": 3,\n",
            "  \"pooler_size_per_head\": 128,\n",
            "  \"pooler_type\": \"first_token_transform\",\n",
            "  \"pruned_heads\": {},\n",
            "  \"torchscript\": false,\n",
            "  \"type_vocab_size\": 2,\n",
            "  \"use_bfloat16\": false,\n",
            "  \"vocab_size\": 28996\n",
            "}\n",
            "\n",
            "08-Nov-19 12:29:51 - DEBUG - Starting new HTTPS connection (1): s3.amazonaws.com:443\n",
            "08-Nov-19 12:29:51 - DEBUG - https://s3.amazonaws.com:443 \"HEAD /models.huggingface.co/bert/bert-large-cased-pytorch_model.bin HTTP/1.1\" 200 0\n",
            "08-Nov-19 12:29:51 - INFO - loading weights file https://s3.amazonaws.com/models.huggingface.co/bert/bert-large-cased-pytorch_model.bin from cache at /root/.cache/torch/transformers/56c451878be53ca1e310764d1e8312301f3d921378919467947ddd53fef6ba2b.b5f1c2070e0a0c189ca3b08270b0cb5bd0635b7319e74e93bd0dc26689953c27\n",
            "08-Nov-19 12:30:02 - INFO - Created TransformerSentenceEncoder\n",
            "\tconfig {'model_name_or_path': 'bert-large-cased', 'model_arch': 'BERT', 'min_seq_len': 3, 'max_seq_len': 512, 'pooling_strategy': 'NONE', 'pooling_layer': [-4, -3, -2, -1], 'tok_merge_strategy': 'mean', 'sent_special_tokens': [{'index': 0, 'tok_id': 101, 'tok': '[CLS]'}, {'index': -1, 'tok_id': 102, 'tok': '[SEP]'}], 'tok_dim': 1024}\n",
            "\ttok_dim:1024\n",
            "\tsent_special_tokens[{'index': 0, 'tok_id': 101, 'tok': '[CLS]'}, {'index': -1, 'tok_id': 102, 'tok': '[SEP]'}]\n",
            "08-Nov-19 12:30:25 - DEBUG - ACC: 0.817 (278 32/138)\n",
            "08-Nov-19 12:30:40 - DEBUG - ACC: 0.759 (457 64/138)\n",
            "08-Nov-19 12:30:55 - DEBUG - ACC: 0.745 (635 96/138)\n",
            "08-Nov-19 12:31:16 - DEBUG - ACC: 0.746 (929 128/138)\n",
            "08-Nov-19 12:31:22 - DEBUG - ACC: 0.752 (1022 138/138)\n",
            "08-Nov-19 12:31:22 - INFO - Supplementary Metrics:\n",
            "08-Nov-19 12:31:22 - INFO - Avg. correct idx: 0.555773\n",
            "08-Nov-19 12:31:22 - INFO - Avg. correct idx (failed): 2.245059\n",
            "08-Nov-19 12:31:22 - INFO - Avg. num options: 5.484344\n",
            "08-Nov-19 12:31:22 - INFO - Num. unknown lemmas: 0\n",
            "08-Nov-19 12:31:22 - INFO - POS Failures:\n",
            "08-Nov-19 12:31:22 - INFO - POS Confusion:\n",
            "08-Nov-19 12:31:22 - INFO - NOUN - {'NOUN': 531, 'VERB': 0, 'ADJ': 0, 'ADV': 0}\n",
            "08-Nov-19 12:31:22 - INFO - VERB - {'NOUN': 0, 'VERB': 251, 'ADJ': 0, 'ADV': 0}\n",
            "08-Nov-19 12:31:22 - INFO - ADJ - {'NOUN': 0, 'VERB': 0, 'ADJ': 160, 'ADV': 0}\n",
            "08-Nov-19 12:31:22 - INFO - ADV - {'NOUN': 0, 'VERB': 0, 'ADJ': 0, 'ADV': 80}\n",
            "08-Nov-19 12:31:22 - INFO - Running official scorer ...\n",
            "cd external/wsd_eval/WSD_Evaluation_Framework/Evaluation_Datasets/ && java Scorer semeval2015/semeval2015.gold.key.txt ../../../../data/results/1573216202.semeval2015.mean.key\n",
            "P=\t75.2%\n",
            "R=\t75.2%\n",
            "F1=\t75.2%\n",
            "CPU times: user 602 ms, sys: 83.4 ms, total: 686 ms\n",
            "Wall time: 1min 44s\n"
          ],
          "name": "stdout"
        }
      ]
    },
    {
      "cell_type": "markdown",
      "metadata": {
        "id": "kdobeSpPqtzm",
        "colab_type": "text"
      },
      "source": [
        "At the end of previous cell, precision, recall and f1 scores are showed. We can also compare these results with the ones we obtained in the repository  with the table down below. LMMS 1024 row shows the results which we are reproducing, since LMMS 2048 row shows the results with concatenation of embeddings of glossas and lemmas."
      ]
    },
    {
      "cell_type": "markdown",
      "metadata": {
        "id": "yG5nScnUriTC",
        "colab_type": "text"
      },
      "source": [
        "| Sense Embeddings (1-NN) | Senseval2 | Senseval3 | Semeval2007 | Semeval2013 | Semeval2015 |  ALL |\n",
        "|:-----------------------:|:---------:|:---------:|:-----------:|:-----------:|:-----------:|:----:|\n",
        "|           MFS           |    66.8   |    66.2   |     55.2    |     63.0    |     67.8    | 65.2 |\n",
        "|        LMMS 1024        |    75.4   |    74.0   |     66.4    |     72.7    |     75.3    | 73.8 |\n",
        "|        LMMS 2048        |    76.3   |    75.6   |     68.1    |     75.1    |     77.0    | 75.4 |"
      ]
    },
    {
      "cell_type": "markdown",
      "metadata": {
        "id": "J2o9MM6BuUYL",
        "colab_type": "text"
      },
      "source": [
        "## **Inspect embeddings**"
      ]
    },
    {
      "cell_type": "markdown",
      "metadata": {
        "id": "UIVJFsdku2Rl",
        "colab_type": "text"
      },
      "source": [
        "As we did with Vecsigrafo, now we are going to inspect the vectors we have obtained.\n"
      ]
    },
    {
      "cell_type": "code",
      "metadata": {
        "id": "Lo4T39cEuoYe",
        "colab_type": "code",
        "colab": {}
      },
      "source": [
        "import numpy as np\n",
        "\n",
        "loader = np.load(\"data/vectors/semcor_ext.3-512.vecs.npz\")\n",
        "labels = loader['labels'].tolist()\n",
        "vectors = loader['vectors']\n",
        "indices = {l: i for i, l in enumerate(labels)}\n",
        "            "
      ],
      "execution_count": 0,
      "outputs": []
    },
    {
      "cell_type": "markdown",
      "metadata": {
        "id": "XFNU5YRCyRa5",
        "colab_type": "text"
      },
      "source": [
        "Let's define a pair of functions to get the kneighbors of a sense of the embeddings"
      ]
    },
    {
      "cell_type": "code",
      "metadata": {
        "id": "stfWcyJ2QkI7",
        "colab_type": "code",
        "colab": {}
      },
      "source": [
        "from sklearn.neighbors import KNeighborsClassifier\n",
        "import pandas\n",
        "\n",
        "pandas.set_option('display.max_colwidth', -1)\n",
        "\n",
        "def get_knn (n_neighbors,vectors,labels):\n",
        "  neigh = KNeighborsClassifier(n_neighbors=n_neighbors+1)\n",
        "  neigh.fit(vectors,labels)\n",
        "  return neigh\n",
        "\n",
        "def get_neighbors_report(neigh,sense,i):\n",
        "  sensekey2synset_map = {}\n",
        "  for synset in nltk.corpus.wordnet.all_synsets():\n",
        "          for lemma in synset.lemmas():\n",
        "              sensekey2synset_map[lemma.key()] = synset\n",
        "\n",
        "  print(\"SENSE: \", sense)\n",
        "  print(\"SYNSET: \", str(sensekey2synset_map[sense])[8:-2])\n",
        "  print(\"GLOSSA: \", sensekey2synset_map[sense].definition())\n",
        "\n",
        "\n",
        "  print(\"\\nK-NEIGHBORS\")\n",
        "  distance_list, neigh_list = neigh.kneighbors(vectors[i].reshape(1, -1))\n",
        "  distance_list = distance_list[0].tolist()\n",
        "  neigh_list = neigh_list[0].tolist()\n",
        "\n",
        "  if i in neigh_list:\n",
        "    distance_list.remove(distance_list[neigh_list.index(i)])\n",
        "    neigh_list.remove(i)\n",
        "  else:\n",
        "    distance_list = distance_list[:-1]\n",
        "    neigh_list = neigh_list[:-1]\n",
        "\n",
        "  res=[labels[n] for n in neigh_list]\n",
        "\n",
        "  glossas = []\n",
        "  synsets = []\n",
        "  for r in res:\n",
        "    synsets.append(str(sensekey2synset_map[r])[8:-2])\n",
        "    glossas.append(sensekey2synset_map[r].definition())\n",
        "  table = [list(i) for i in zip(*[distance_list, res, synsets, glossas])]\n",
        "  return table"
      ],
      "execution_count": 0,
      "outputs": []
    },
    {
      "cell_type": "markdown",
      "metadata": {
        "id": "WEHrnvUDjxf1",
        "colab_type": "text"
      },
      "source": [
        "First, we generate a KNN model with the embeddings..."
      ]
    },
    {
      "cell_type": "code",
      "metadata": {
        "id": "WBTltZ24iuaG",
        "colab_type": "code",
        "colab": {}
      },
      "source": [
        "neigh = get_knn(3,vectors,labels)"
      ],
      "execution_count": 0,
      "outputs": []
    },
    {
      "cell_type": "markdown",
      "metadata": {
        "id": "REI05QE8gYyd",
        "colab_type": "text"
      },
      "source": [
        "... and then executing the next cells will display the 3-neighbors of the senses **\"long%3:00:02::\"**, **\"be%2:42:03::\"** and **\"review%2:31:00::\"**"
      ]
    },
    {
      "cell_type": "code",
      "metadata": {
        "id": "zOYKTeIvdx5u",
        "colab_type": "code",
        "outputId": "36688891-d9f9-47c7-ee14-f4ac2cb04ac7",
        "colab": {
          "base_uri": "https://localhost:8080/",
          "height": 240
        }
      },
      "source": [
        "sense = \"long%3:00:02::\"\n",
        "table = get_neighbors_report(neigh, sense, indices[sense])\n",
        "pandas.DataFrame(table, columns=['distance','sense','synset', 'glossa'])"
      ],
      "execution_count": 0,
      "outputs": [
        {
          "output_type": "stream",
          "text": [
            "SENSE:  long%3:00:02::\n",
            "SYNSET:  long.a.01\n",
            "GLOSSA:  primarily temporal sense; being or indicating a relatively great or greater than average duration or passage of time or a duration as specified\n",
            "\n",
            "K-NEIGHBORS\n"
          ],
          "name": "stdout"
        },
        {
          "output_type": "execute_result",
          "data": {
            "text/html": [
              "<div>\n",
              "<style scoped>\n",
              "    .dataframe tbody tr th:only-of-type {\n",
              "        vertical-align: middle;\n",
              "    }\n",
              "\n",
              "    .dataframe tbody tr th {\n",
              "        vertical-align: top;\n",
              "    }\n",
              "\n",
              "    .dataframe thead th {\n",
              "        text-align: right;\n",
              "    }\n",
              "</style>\n",
              "<table border=\"1\" class=\"dataframe\">\n",
              "  <thead>\n",
              "    <tr style=\"text-align: right;\">\n",
              "      <th></th>\n",
              "      <th>distance</th>\n",
              "      <th>sense</th>\n",
              "      <th>synset</th>\n",
              "      <th>glossa</th>\n",
              "    </tr>\n",
              "  </thead>\n",
              "  <tbody>\n",
              "    <tr>\n",
              "      <th>0</th>\n",
              "      <td>19.909746</td>\n",
              "      <td>long%4:02:00::</td>\n",
              "      <td>long.r.01</td>\n",
              "      <td>for an extended time or at a distant time</td>\n",
              "    </tr>\n",
              "    <tr>\n",
              "      <th>1</th>\n",
              "      <td>27.274618</td>\n",
              "      <td>long%3:00:01::</td>\n",
              "      <td>long.a.02</td>\n",
              "      <td>primarily spatial sense; of relatively great or greater than average spatial extension or extension as specified</td>\n",
              "    </tr>\n",
              "    <tr>\n",
              "      <th>2</th>\n",
              "      <td>28.726203</td>\n",
              "      <td>long_time%1:28:00::</td>\n",
              "      <td>long_time.n.01</td>\n",
              "      <td>a prolonged period of time</td>\n",
              "    </tr>\n",
              "  </tbody>\n",
              "</table>\n",
              "</div>"
            ],
            "text/plain": [
              "    distance  ...                                                                                                            glossa\n",
              "0  19.909746  ...  for an extended time or at a distant time                                                                       \n",
              "1  27.274618  ...  primarily spatial sense; of relatively great or greater than average spatial extension or extension as specified\n",
              "2  28.726203  ...  a prolonged period of time                                                                                      \n",
              "\n",
              "[3 rows x 4 columns]"
            ]
          },
          "metadata": {
            "tags": []
          },
          "execution_count": 18
        }
      ]
    },
    {
      "cell_type": "code",
      "metadata": {
        "id": "sXD70WxLfXsf",
        "colab_type": "code",
        "outputId": "9fd2c511-79e2-4cab-a3a2-da2024362651",
        "colab": {
          "base_uri": "https://localhost:8080/",
          "height": 220
        }
      },
      "source": [
        "sense = \"be%2:42:03::\"\n",
        "table = get_neighbors_report(neigh, sense, indices[sense])\n",
        "pandas.DataFrame(table, columns=['distance', 'sense', 'synset', 'glossa'])"
      ],
      "execution_count": 0,
      "outputs": [
        {
          "output_type": "stream",
          "text": [
            "SENSE:  be%2:42:03::\n",
            "SYNSET:  be.v.01\n",
            "GLOSSA:  have the quality of being; (copula, used with an adjective or a predicate noun)\n",
            "\n",
            "K-NEIGHBORS\n"
          ],
          "name": "stdout"
        },
        {
          "output_type": "execute_result",
          "data": {
            "text/html": [
              "<div>\n",
              "<style scoped>\n",
              "    .dataframe tbody tr th:only-of-type {\n",
              "        vertical-align: middle;\n",
              "    }\n",
              "\n",
              "    .dataframe tbody tr th {\n",
              "        vertical-align: top;\n",
              "    }\n",
              "\n",
              "    .dataframe thead th {\n",
              "        text-align: right;\n",
              "    }\n",
              "</style>\n",
              "<table border=\"1\" class=\"dataframe\">\n",
              "  <thead>\n",
              "    <tr style=\"text-align: right;\">\n",
              "      <th></th>\n",
              "      <th>distance</th>\n",
              "      <th>sense</th>\n",
              "      <th>synset</th>\n",
              "      <th>glossa</th>\n",
              "    </tr>\n",
              "  </thead>\n",
              "  <tbody>\n",
              "    <tr>\n",
              "      <th>0</th>\n",
              "      <td>0.0</td>\n",
              "      <td>pack%2:35:11::</td>\n",
              "      <td>compact.v.01</td>\n",
              "      <td>have the property of being packable or of compacting easily</td>\n",
              "    </tr>\n",
              "    <tr>\n",
              "      <th>1</th>\n",
              "      <td>0.0</td>\n",
              "      <td>balance%2:42:01::</td>\n",
              "      <td>balance.v.04</td>\n",
              "      <td>be in equilibrium</td>\n",
              "    </tr>\n",
              "    <tr>\n",
              "      <th>2</th>\n",
              "      <td>0.0</td>\n",
              "      <td>compact%2:35:09::</td>\n",
              "      <td>compact.v.01</td>\n",
              "      <td>have the property of being packable or of compacting easily</td>\n",
              "    </tr>\n",
              "  </tbody>\n",
              "</table>\n",
              "</div>"
            ],
            "text/plain": [
              "   distance  ...                                                       glossa\n",
              "0  0.0       ...  have the property of being packable or of compacting easily\n",
              "1  0.0       ...  be in equilibrium                                          \n",
              "2  0.0       ...  have the property of being packable or of compacting easily\n",
              "\n",
              "[3 rows x 4 columns]"
            ]
          },
          "metadata": {
            "tags": []
          },
          "execution_count": 19
        }
      ]
    },
    {
      "cell_type": "code",
      "metadata": {
        "id": "qsAxnwCxflX_",
        "colab_type": "code",
        "outputId": "7ff005bf-984c-47ab-9b37-30ffd3599bf2",
        "colab": {
          "base_uri": "https://localhost:8080/",
          "height": 220
        }
      },
      "source": [
        "sense = \"review%2:31:00::\"\n",
        "table = get_neighbors_report(neigh, sense, indices[sense])\n",
        "pandas.DataFrame(table, columns=['distance','sense', 'synset', 'glossa'])"
      ],
      "execution_count": 0,
      "outputs": [
        {
          "output_type": "stream",
          "text": [
            "SENSE:  review%2:31:00::\n",
            "SYNSET:  review.v.01\n",
            "GLOSSA:  look at again; examine again\n",
            "\n",
            "K-NEIGHBORS\n"
          ],
          "name": "stdout"
        },
        {
          "output_type": "execute_result",
          "data": {
            "text/html": [
              "<div>\n",
              "<style scoped>\n",
              "    .dataframe tbody tr th:only-of-type {\n",
              "        vertical-align: middle;\n",
              "    }\n",
              "\n",
              "    .dataframe tbody tr th {\n",
              "        vertical-align: top;\n",
              "    }\n",
              "\n",
              "    .dataframe thead th {\n",
              "        text-align: right;\n",
              "    }\n",
              "</style>\n",
              "<table border=\"1\" class=\"dataframe\">\n",
              "  <thead>\n",
              "    <tr style=\"text-align: right;\">\n",
              "      <th></th>\n",
              "      <th>distance</th>\n",
              "      <th>sense</th>\n",
              "      <th>synset</th>\n",
              "      <th>glossa</th>\n",
              "    </tr>\n",
              "  </thead>\n",
              "  <tbody>\n",
              "    <tr>\n",
              "      <th>0</th>\n",
              "      <td>25.646945</td>\n",
              "      <td>peer_review%2:32:00::</td>\n",
              "      <td>referee.v.02</td>\n",
              "      <td>evaluate professionally a colleague's work</td>\n",
              "    </tr>\n",
              "    <tr>\n",
              "      <th>1</th>\n",
              "      <td>25.646945</td>\n",
              "      <td>critique%2:32:00::</td>\n",
              "      <td>review.v.02</td>\n",
              "      <td>appraise critically</td>\n",
              "    </tr>\n",
              "    <tr>\n",
              "      <th>2</th>\n",
              "      <td>25.646945</td>\n",
              "      <td>referee%2:32:00::</td>\n",
              "      <td>referee.v.02</td>\n",
              "      <td>evaluate professionally a colleague's work</td>\n",
              "    </tr>\n",
              "  </tbody>\n",
              "</table>\n",
              "</div>"
            ],
            "text/plain": [
              "    distance  ...                                      glossa\n",
              "0  25.646945  ...  evaluate professionally a colleague's work\n",
              "1  25.646945  ...  appraise critically                       \n",
              "2  25.646945  ...  evaluate professionally a colleague's work\n",
              "\n",
              "[3 rows x 4 columns]"
            ]
          },
          "metadata": {
            "tags": []
          },
          "execution_count": 20
        }
      ]
    },
    {
      "cell_type": "markdown",
      "metadata": {
        "id": "infe4wFHWpFH",
        "colab_type": "text"
      },
      "source": [
        "## **Exploring stability of embeddings**\n",
        "One of the improvements over the standard LMMS library is that we have added a `rolling_cosim` metric collected during \"training\" the embeddings. It collects cosine similarity scores between the current average vector for a sense and the next occurrence of that sense in the training corpus. We expect this value to converge to the average distance that an individual sense (i.e. a contextual embedding) is away from its average."
      ]
    },
    {
      "cell_type": "code",
      "metadata": {
        "id": "bnQKHZJVWSVQ",
        "colab_type": "code",
        "colab": {}
      },
      "source": [
        "def read_rolling_cosims(base_path, ext='txt', sep=' '):\n",
        "    def _float(s):\n",
        "        try:\n",
        "            return float(s)\n",
        "        except:\n",
        "            raise ValueError()\n",
        "            #print(\"Can't convert \", s.strip(), \"to float\")\n",
        "            #return 0.0\n",
        "        \n",
        "    result = {}\n",
        "    with open(base_path +'.rolling_cosims.%s' % ext) as tsv_f:\n",
        "        for line_idx, line in enumerate(tsv_f):\n",
        "            line = line.strip()\n",
        "            elems = line.split(sep)\n",
        "            #print(\"line \", line_idx, len(elems))\n",
        "            try:\n",
        "              result[elems[0]] = list(map(_float, elems[1:]))\n",
        "            except:\n",
        "              print('Error reading line %d\\n%s\\n%s' % (line_idx, line, elems))\n",
        "    return result"
      ],
      "execution_count": 0,
      "outputs": []
    },
    {
      "cell_type": "code",
      "metadata": {
        "id": "7jQyg0hxW-IZ",
        "colab_type": "code",
        "colab": {}
      },
      "source": [
        "blc = read_rolling_cosims('data/vectors/semcor..3-512')"
      ],
      "execution_count": 0,
      "outputs": []
    },
    {
      "cell_type": "code",
      "metadata": {
        "id": "8OlHX8k3ZT2i",
        "colab_type": "code",
        "outputId": "b321c292-027e-4e78-aa85-f73ae013e369",
        "colab": {
          "base_uri": "https://localhost:8080/",
          "height": 34
        }
      },
      "source": [
        "len(blc)"
      ],
      "execution_count": 0,
      "outputs": [
        {
          "output_type": "execute_result",
          "data": {
            "text/plain": [
              "33362"
            ]
          },
          "metadata": {
            "tags": []
          },
          "execution_count": 23
        }
      ]
    },
    {
      "cell_type": "code",
      "metadata": {
        "id": "qh8R1BgBZhNL",
        "colab_type": "code",
        "colab": {}
      },
      "source": [
        "import statistics \n",
        "def rcosim_stdevs(rcosims, start_occ=10, min_occs=20):\n",
        "    return {\n",
        "        sense: statistics.stdev(cosims[start_occ:]) for sense, cosims in rcosims.items() \n",
        "        if len(cosims) > start_occ + min_occs\n",
        "    }"
      ],
      "execution_count": 0,
      "outputs": []
    },
    {
      "cell_type": "code",
      "metadata": {
        "id": "51SYjaNfZitK",
        "colab_type": "code",
        "colab": {}
      },
      "source": [
        "def plot_senses(rcosims, sense_list=[], lemma=None):\n",
        "    style = ['b-', 'g-', 'r-', 'c-', 'm-', 'y-', 'k-',\n",
        "             'b:', 'g:', 'r:', 'c:', 'm:', 'y:', 'k:',\n",
        "             'b--', 'g--', 'r--', 'c--', 'm--', 'y--', 'k--',\n",
        "              'bx', 'gx', 'rx']\n",
        "    if lemma is not None:\n",
        "        assert sense_list == []\n",
        "        sense_list = [sense for sense in rcosims.keys() \n",
        "                          if sense.startswith(lemma+\"%\")]\n",
        "    if len(sense_list) > 6:\n",
        "        for i in range(0, len(sense_list), 6):\n",
        "            #print('plotting sense ', i, 'to', i+6)\n",
        "            plot = plot_senses(rcosims, sense_list[i:i+6])\n",
        "            plot.show()\n",
        "        return\n",
        "    for i, sense in enumerate(sense_list):\n",
        "        x = len(rcosims[sense])\n",
        "        #print(sense, x)\n",
        "        #plt.scatter(range(len(rcosims[sense])), rcosims[sense])\n",
        "        plt.plot(range(x), rcosims[sense], style[i], label=\"%s n=%d $\\mu$=%.3f $\\sigma$=%.3f\" % (\n",
        "            sense, x, \n",
        "            0.0 if x == 0 else statistics.mean(rcosims[sense]), \n",
        "            0.0 if x < 2 else statistics.stdev(rcosims[sense])))\n",
        "    plt.legend()\n",
        "    plt.ylabel('Rolling cosim')\n",
        "    plt.xlabel('sense occurrence in corpus')\n",
        "    axes = plt.gca() # get current\n",
        "    axes.set_xlim([0,100])\n",
        "    axes.set_ylim([0,1.0])\n",
        "    return plt"
      ],
      "execution_count": 0,
      "outputs": []
    },
    {
      "cell_type": "markdown",
      "metadata": {
        "id": "btw5GXX2Zxnd",
        "colab_type": "text"
      },
      "source": [
        "### **How often do senses occur in semcor?**"
      ]
    },
    {
      "cell_type": "code",
      "metadata": {
        "id": "kL8-jj8tZw4x",
        "colab_type": "code",
        "outputId": "ccca71c9-184b-44ef-d63c-3df36950999e",
        "colab": {
          "base_uri": "https://localhost:8080/",
          "height": 265
        }
      },
      "source": [
        "import matplotlib.pyplot as plt\n",
        "plt.yscale('log')\n",
        "_ = plt.hist([len(rcosims) for sense, rcosims in blc.items()], bins=50)"
      ],
      "execution_count": 0,
      "outputs": [
        {
          "output_type": "display_data",
          "data": {
            "image/png": "[encoded data removed]",
            "text/plain": [
              "<Figure size 432x288 with 1 Axes>"
            ]
          },
          "metadata": {
            "tags": []
          }
        }
      ]
    },
    {
      "cell_type": "code",
      "metadata": {
        "id": "cGMc4cDabArv",
        "colab_type": "code",
        "outputId": "4e058393-22ba-43d2-cbcd-6618903e817a",
        "colab": {
          "base_uri": "https://localhost:8080/",
          "height": 265
        }
      },
      "source": [
        "_ = plt.hist([len(rcosims) for sense, rcosims in blc.items()], bins=50)"
      ],
      "execution_count": 0,
      "outputs": [
        {
          "output_type": "display_data",
          "data": {
            "image/png": "[encoded data removed]",
            "text/plain": [
              "<Figure size 432x288 with 1 Axes>"
            ]
          },
          "metadata": {
            "tags": []
          }
        }
      ]
    },
    {
      "cell_type": "markdown",
      "metadata": {
        "id": "mpzPPdS2bIPH",
        "colab_type": "text"
      },
      "source": [
        "Most of the senses. 20K out of 33K, only occur once or twice in semcor. Then there's a tail of senses with increasing occurrences. Only about 500 senses occur 100 times or more.\n"
      ]
    },
    {
      "cell_type": "markdown",
      "metadata": {
        "id": "lVEjHGeMbRHE",
        "colab_type": "text"
      },
      "source": [
        "### **What do frequent sense rcosim plots look like**"
      ]
    },
    {
      "cell_type": "code",
      "metadata": {
        "id": "s33mkRihbdYT",
        "colab_type": "code",
        "colab": {}
      },
      "source": [
        "senses_byfreq = [kv[0] for kv in sorted(blc.items(), key=lambda kv: len(kv[1]))]"
      ],
      "execution_count": 0,
      "outputs": []
    },
    {
      "cell_type": "code",
      "metadata": {
        "id": "OBe_tBMPZt13",
        "colab_type": "code",
        "outputId": "ee29cbc5-f104-41b8-d961-f78910f6fdd3",
        "colab": {
          "base_uri": "https://localhost:8080/",
          "height": 283
        }
      },
      "source": [
        "_ = plot_senses(blc, senses_byfreq[-6:]) # most frequent senses"
      ],
      "execution_count": 0,
      "outputs": [
        {
          "output_type": "display_data",
          "data": {
            "image/png": "[encoded data removed]",
            "text/plain": [
              "<Figure size 432x288 with 1 Axes>"
            ]
          },
          "metadata": {
            "tags": []
          }
        }
      ]
    },
    {
      "cell_type": "code",
      "metadata": {
        "id": "a9Sxv6bfbre3",
        "colab_type": "code",
        "outputId": "d2fe3fe4-52b0-48cd-eeba-645743bc2c2a",
        "colab": {
          "base_uri": "https://localhost:8080/",
          "height": 283
        }
      },
      "source": [
        "# some less frequent senses, but still visible\n",
        "_ = plot_senses(blc, senses_byfreq[32000:32006]) "
      ],
      "execution_count": 0,
      "outputs": [
        {
          "output_type": "display_data",
          "data": {
            "image/png": "[encoded data removed]",
            "text/plain": [
              "<Figure size 432x288 with 1 Axes>"
            ]
          },
          "metadata": {
            "tags": []
          }
        }
      ]
    },
    {
      "cell_type": "code",
      "metadata": {
        "id": "H2K3ddYFb4QV",
        "colab_type": "code",
        "outputId": "6fd8e7ef-826d-4738-e1c1-99c7648418ef",
        "colab": {
          "base_uri": "https://localhost:8080/",
          "height": 549
        }
      },
      "source": [
        "# senses for lemma 'be'\n",
        "plot_senses(blc, lemma=\"be\")"
      ],
      "execution_count": 0,
      "outputs": [
        {
          "output_type": "display_data",
          "data": {
            "image/png": "[encoded data removed]",
            "text/plain": [
              "<Figure size 432x288 with 1 Axes>"
            ]
          },
          "metadata": {
            "tags": []
          }
        },
        {
          "output_type": "display_data",
          "data": {
            "image/png": "[encoded data removed]",
            "text/plain": [
              "<Figure size 432x288 with 1 Axes>"
            ]
          },
          "metadata": {
            "tags": []
          }
        }
      ]
    },
    {
      "cell_type": "markdown",
      "metadata": {
        "id": "HvkBQ3MLlZMg",
        "colab_type": "text"
      },
      "source": [
        "It seems that even the embeddings for the most frequent lemmas are quite unstable, pattern that is sharpened even more when the frequency of appearance is lower."
      ]
    },
    {
      "cell_type": "markdown",
      "metadata": {
        "id": "IVSQFmCIr4q-",
        "colab_type": "text"
      },
      "source": [
        "##Embedding projector"
      ]
    },
    {
      "cell_type": "markdown",
      "metadata": {
        "id": "O4u9L2HnsDVw",
        "colab_type": "text"
      },
      "source": [
        "In order to visualize how the embeddings for a specific lemma are distributed, we will use the embedding projector of Tensorflow (https://projector.tensorflow.org/)"
      ]
    },
    {
      "cell_type": "markdown",
      "metadata": {
        "id": "RO2FxgRnuhSp",
        "colab_type": "text"
      },
      "source": [
        "![alt text](https://github.com/hybridnlp/tutorial/raw/master/images/long_projection_1.png)"
      ]
    },
    {
      "cell_type": "markdown",
      "metadata": {
        "id": "jUjRTF3Puw0O",
        "colab_type": "text"
      },
      "source": [
        "We are going to visualize the embeddings of the lemma \"long\". To do so, download the next files in your computer: [long.tsv](https://github.com/hybridnlp/tutorial/raw/master/datasamples/long.tsv) and [long.meta.tsv](https://github.com/hybridnlp/tutorial/raw/master/datasamples/long.meta.tsv). Once you have done it, click the load button in the upper-left corner of Tensorflow Projector and then choose your files (long.tsv for vectors and long.meta.tsv for metadata)\n"
      ]
    },
    {
      "cell_type": "markdown",
      "metadata": {
        "id": "TKmTo8DbwMwB",
        "colab_type": "text"
      },
      "source": [
        "![alt text](https://github.com/hybridnlp/tutorial/raw/master/images/long_projection_2.png)"
      ]
    },
    {
      "cell_type": "markdown",
      "metadata": {
        "id": "TmE3haiewQbJ",
        "colab_type": "text"
      },
      "source": [
        "Now we can see the embeddings of the lemma long projected in three dimensions. To visualize how the clustering algorithms classify these embeddings, select tthe sense labels in the upper-left menu."
      ]
    },
    {
      "cell_type": "markdown",
      "metadata": {
        "id": "qpFcXNi7wsuD",
        "colab_type": "text"
      },
      "source": [
        "![alt text](https://github.com/hybridnlp/tutorial/raw/master/images/long_projection_3.png)\n",
        "![alt text](https://github.com/hybridnlp/tutorial/raw/master/images/long_projection_4.png)"
      ]
    },
    {
      "cell_type": "markdown",
      "metadata": {
        "id": "hhbkZKOxwwaL",
        "colab_type": "text"
      },
      "source": [
        "You can select different algorithms to cluster the data and see the results"
      ]
    },
    {
      "cell_type": "markdown",
      "metadata": {
        "id": "sznWqRALw5qR",
        "colab_type": "text"
      },
      "source": [
        "![alt text](https://github.com/hybridnlp/tutorial/raw/master/images/long_projection_5.png)"
      ]
    }
  ]
}